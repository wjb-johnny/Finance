{
 "cells": [
  {
   "cell_type": "markdown",
   "metadata": {},
   "source": [
    "# 申请评分卡 Application Scorecard\n",
    "### 数据来源 Data Source: [Give Me Some Credit (Kaggle Competition)](https://www.kaggle.com/c/GiveMeSomeCredit/data)  \n",
    "### 内容 Content:\n",
    "1. 预处理 Preprocessing\n",
    "2. EDA\n",
    "3. 模型 (Model)\n",
    "    + 最优分箱(Optimal binning)，WOE，IV\n",
    "    + 逻辑回归(Logistic Regression）\n",
    "    + AUC，KS\n",
    "4. 评分卡(Scorecard)\n",
    "    + 计算\n",
    "    + 稳定性 (Stability)"
   ]
  },
  {
   "cell_type": "code",
   "execution_count": 1,
   "metadata": {},
   "outputs": [],
   "source": [
    "import pandas as pd\n",
    "import numpy as np\n",
    "import matplotlib.pyplot as plt\n",
    "plt.style.use('ggplot')\n",
    "import seaborn as sns\n",
    "\n",
    "import random\n",
    "\n",
    "from sklearn.ensemble import RandomForestRegressor\n",
    "from sklearn.tree import DecisionTreeClassifier"
   ]
  },
  {
   "cell_type": "code",
   "execution_count": 2,
   "metadata": {},
   "outputs": [
    {
     "name": "stdout",
     "output_type": "stream",
     "text": [
      "<class 'pandas.core.frame.DataFrame'>\n",
      "RangeIndex: 150000 entries, 0 to 149999\n",
      "Data columns (total 11 columns):\n",
      "SeriousDlqin2yrs                        150000 non-null int64\n",
      "RevolvingUtilizationOfUnsecuredLines    150000 non-null float64\n",
      "age                                     150000 non-null int64\n",
      "NumberOfTime30-59DaysPastDueNotWorse    150000 non-null int64\n",
      "DebtRatio                               150000 non-null float64\n",
      "MonthlyIncome                           120269 non-null float64\n",
      "NumberOfOpenCreditLinesAndLoans         150000 non-null int64\n",
      "NumberOfTimes90DaysLate                 150000 non-null int64\n",
      "NumberRealEstateLoansOrLines            150000 non-null int64\n",
      "NumberOfTime60-89DaysPastDueNotWorse    150000 non-null int64\n",
      "NumberOfDependents                      146076 non-null float64\n",
      "dtypes: float64(4), int64(7)\n",
      "memory usage: 12.6 MB\n"
     ]
    }
   ],
   "source": [
    "data = pd.read_csv('../scorecard/cs-training.csv').iloc[:,1:]\n",
    "data.info()"
   ]
  },
  {
   "cell_type": "markdown",
   "metadata": {},
   "source": [
    "# 1. 预处理 Preprocessing"
   ]
  },
  {
   "cell_type": "markdown",
   "metadata": {},
   "source": [
    "## 1.1 Target"
   ]
  },
  {
   "cell_type": "code",
   "execution_count": 3,
   "metadata": {},
   "outputs": [],
   "source": [
    "# 使好客户为1，坏客户为0\n",
    "data['SeriousDlqin2yrs']=1-data['SeriousDlqin2yrs']  "
   ]
  },
  {
   "cell_type": "markdown",
   "metadata": {},
   "source": [
    "## 1.2 缺失值 Missing Values"
   ]
  },
  {
   "cell_type": "markdown",
   "metadata": {},
   "source": [
    "### 1.2.1 NumberOfDependents"
   ]
  },
  {
   "cell_type": "code",
   "execution_count": 4,
   "metadata": {},
   "outputs": [
    {
     "data": {
      "text/plain": [
       "0.0     86902\n",
       "1.0     26316\n",
       "2.0     19522\n",
       "3.0      9483\n",
       "4.0      2862\n",
       "5.0       746\n",
       "6.0       158\n",
       "7.0        51\n",
       "8.0        24\n",
       "9.0         5\n",
       "10.0        5\n",
       "13.0        1\n",
       "20.0        1\n",
       "Name: NumberOfDependents, dtype: int64"
      ]
     },
     "execution_count": 4,
     "metadata": {},
     "output_type": "execute_result"
    }
   ],
   "source": [
    "data['NumberOfDependents'].value_counts()"
   ]
  },
  {
   "cell_type": "code",
   "execution_count": 5,
   "metadata": {},
   "outputs": [
    {
     "data": {
      "text/plain": [
       "<matplotlib.axes._subplots.AxesSubplot at 0x274aaae1488>"
      ]
     },
     "execution_count": 5,
     "metadata": {},
     "output_type": "execute_result"
    },
    {
     "data": {
      "image/png": "[encoded data removed]",
      "text/plain": [
       "<Figure size 432x288 with 1 Axes>"
      ]
     },
     "metadata": {
      "needs_background": "light"
     },
     "output_type": "display_data"
    }
   ],
   "source": [
    "data['NumberOfDependents'].value_counts().plot.bar()"
   ]
  },
  {
   "cell_type": "code",
   "execution_count": 6,
   "metadata": {},
   "outputs": [],
   "source": [
    "# 从现有数据中进行随机抽样，填充缺失值\n",
    "Num_Dependents_dropna = data['NumberOfDependents'].dropna().reset_index(drop=True)\n",
    "fillna_list = random.choices(Num_Dependents_dropna, k = data['NumberOfDependents'].isnull().sum())"
   ]
  },
  {
   "cell_type": "code",
   "execution_count": 7,
   "metadata": {},
   "outputs": [],
   "source": [
    "i = 0\n",
    "for row in data.loc[data.NumberOfDependents.isnull(),'NumberOfDependents'].index:\n",
    "    data.at[row,'NumberOfDependents'] = fillna_list[i]\n",
    "    i += 1"
   ]
  },
  {
   "cell_type": "code",
   "execution_count": 8,
   "metadata": {},
   "outputs": [
    {
     "name": "stdout",
     "output_type": "stream",
     "text": [
      "<class 'pandas.core.frame.DataFrame'>\n",
      "RangeIndex: 150000 entries, 0 to 149999\n",
      "Data columns (total 11 columns):\n",
      "SeriousDlqin2yrs                        150000 non-null int64\n",
      "RevolvingUtilizationOfUnsecuredLines    150000 non-null float64\n",
      "age                                     150000 non-null int64\n",
      "NumberOfTime30-59DaysPastDueNotWorse    150000 non-null int64\n",
      "DebtRatio                               150000 non-null float64\n",
      "MonthlyIncome                           120269 non-null float64\n",
      "NumberOfOpenCreditLinesAndLoans         150000 non-null int64\n",
      "NumberOfTimes90DaysLate                 150000 non-null int64\n",
      "NumberRealEstateLoansOrLines            150000 non-null int64\n",
      "NumberOfTime60-89DaysPastDueNotWorse    150000 non-null int64\n",
      "NumberOfDependents                      150000 non-null float64\n",
      "dtypes: float64(4), int64(7)\n",
      "memory usage: 12.6 MB\n"
     ]
    }
   ],
   "source": [
    "data.info()"
   ]
  },
  {
   "cell_type": "code",
   "execution_count": 9,
   "metadata": {},
   "outputs": [
    {
     "data": {
      "text/plain": [
       "<matplotlib.axes._subplots.AxesSubplot at 0x274ab145908>"
      ]
     },
     "execution_count": 9,
     "metadata": {},
     "output_type": "execute_result"
    },
    {
     "data": {
      "image/png": "[encoded data removed]",
      "text/plain": [
       "<Figure size 432x288 with 1 Axes>"
      ]
     },
     "metadata": {
      "needs_background": "light"
     },
     "output_type": "display_data"
    }
   ],
   "source": [
    "data['NumberOfDependents'].value_counts().plot.bar()"
   ]
  },
  {
   "cell_type": "markdown",
   "metadata": {},
   "source": [
    "### 1.2.2 MonthlyIncome\n",
    "使用RandomForest填充缺失值"
   ]
  },
  {
   "cell_type": "code",
   "execution_count": 10,
   "metadata": {
    "scrolled": true
   },
   "outputs": [],
   "source": [
    "def fill_MonthlyIncome(df):\n",
    "    independent_variables = ['RevolvingUtilizationOfUnsecuredLines', 'age','NumberOfTime30-59DaysPastDueNotWorse',\n",
    "                         'DebtRatio','NumberOfOpenCreditLinesAndLoans', 'NumberOfTimes90DaysLate',\n",
    "                         'NumberRealEstateLoansOrLines', 'NumberOfTime60-89DaysPastDueNotWorse','NumberOfDependents']\n",
    "    dependent_variables = ['MonthlyIncome']\n",
    "\n",
    "    known_data = df[df.MonthlyIncome.notnull()]\n",
    "    unknown_data = df[df.MonthlyIncome.isnull()]\n",
    "\n",
    "    X = known_data[independent_variables]\n",
    "    y = known_data[dependent_variables]\n",
    "\n",
    "    rf_model = RandomForestRegressor(n_estimators=200, max_depth=3, n_jobs=-1).fit(X,y)\n",
    "    pred = rf_model.predict(unknown_data[independent_variables])\n",
    "    df.loc[df.MonthlyIncome.isnull(),'MonthlyIncome'] = pred\n",
    "    return df"
   ]
  },
  {
   "cell_type": "code",
   "execution_count": 11,
   "metadata": {},
   "outputs": [
    {
     "name": "stderr",
     "output_type": "stream",
     "text": [
      "C:\\Users\\Junbo\\Anaconda3\\lib\\site-packages\\ipykernel_launcher.py:13: DataConversionWarning: A column-vector y was passed when a 1d array was expected. Please change the shape of y to (n_samples,), for example using ravel().\n",
      "  del sys.path[0]\n"
     ]
    }
   ],
   "source": [
    "data = fill_MonthlyIncome(data)"
   ]
  },
  {
   "cell_type": "markdown",
   "metadata": {},
   "source": [
    "## 1.3 重复项 Duplicates"
   ]
  },
  {
   "cell_type": "code",
   "execution_count": 12,
   "metadata": {},
   "outputs": [
    {
     "data": {
      "text/plain": [
       "669"
      ]
     },
     "execution_count": 12,
     "metadata": {},
     "output_type": "execute_result"
    }
   ],
   "source": [
    "data.duplicated().sum()"
   ]
  },
  {
   "cell_type": "code",
   "execution_count": 13,
   "metadata": {},
   "outputs": [
    {
     "data": {
      "text/plain": [
       "(149331, 11)"
      ]
     },
     "execution_count": 13,
     "metadata": {},
     "output_type": "execute_result"
    }
   ],
   "source": [
    "data = data.drop_duplicates()\n",
    "data.shape"
   ]
  },
  {
   "cell_type": "markdown",
   "metadata": {},
   "source": [
    "## 1.4 异常值 Outliers"
   ]
  },
  {
   "cell_type": "markdown",
   "metadata": {},
   "source": [
    "### 1.4.1 Age"
   ]
  },
  {
   "cell_type": "code",
   "execution_count": 14,
   "metadata": {},
   "outputs": [
    {
     "data": {
      "image/png": "[encoded data removed]",
      "text/plain": [
       "<Figure size 360x720 with 1 Axes>"
      ]
     },
     "metadata": {
      "needs_background": "light"
     },
     "output_type": "display_data"
    }
   ],
   "source": [
    "plt.figure(figsize = (5,10))\n",
    "plt.boxplot(data['age'])\n",
    "plt.show()"
   ]
  },
  {
   "cell_type": "markdown",
   "metadata": {},
   "source": [
    "有的年龄超过100岁，需要删除"
   ]
  },
  {
   "cell_type": "code",
   "execution_count": 15,
   "metadata": {},
   "outputs": [],
   "source": [
    "data = data.loc[(data.age>0)&(data.age<100)]"
   ]
  },
  {
   "cell_type": "markdown",
   "metadata": {},
   "source": [
    "### 1.4.2 RevolvingUtilizationOfUnsecuredLines & DebtRatio"
   ]
  },
  {
   "cell_type": "code",
   "execution_count": 16,
   "metadata": {
    "scrolled": false
   },
   "outputs": [
    {
     "data": {
      "image/png": "[encoded data removed]",
      "text/plain": [
       "<Figure size 360x720 with 2 Axes>"
      ]
     },
     "metadata": {
      "needs_background": "light"
     },
     "output_type": "display_data"
    }
   ],
   "source": [
    "fig,ax = plt.subplots(1,2, figsize = (5,10))\n",
    "plt.subplots_adjust(wspace=1.5)\n",
    "ax[0].boxplot(data['RevolvingUtilizationOfUnsecuredLines'])\n",
    "ax[1].boxplot(data['DebtRatio'])\n",
    "ax[0].set_title('RevolvingUtilizationOfUnsecuredLines')\n",
    "ax[1].set_title('DebtRatio')\n",
    "plt.show()"
   ]
  },
  {
   "cell_type": "markdown",
   "metadata": {},
   "source": [
    "这两个Feature都是比率，应该在0-1之间"
   ]
  },
  {
   "cell_type": "code",
   "execution_count": 17,
   "metadata": {},
   "outputs": [],
   "source": [
    "data = data.loc[(data.RevolvingUtilizationOfUnsecuredLines>=0)&(data.RevolvingUtilizationOfUnsecuredLines<=1)]\n",
    "data = data.loc[(data.DebtRatio>=0)&(data.DebtRatio<=1)]"
   ]
  },
  {
   "cell_type": "markdown",
   "metadata": {},
   "source": [
    "### 1.4.3 NumberOfTimes: Past Dues"
   ]
  },
  {
   "cell_type": "code",
   "execution_count": 18,
   "metadata": {},
   "outputs": [
    {
     "data": {
      "text/plain": [
       "Text(0.5, 1.0, 'NumberOfTimes90DaysLate')"
      ]
     },
     "execution_count": 18,
     "metadata": {},
     "output_type": "execute_result"
    },
    {
     "data": {
      "image/png": "[encoded data removed]",
      "text/plain": [
       "<Figure size 1080x360 with 3 Axes>"
      ]
     },
     "metadata": {
      "needs_background": "light"
     },
     "output_type": "display_data"
    }
   ],
   "source": [
    "fig,ax = plt.subplots(1,3, figsize=(15,5))\n",
    "plt.subplots_adjust(wspace=1)\n",
    "ax[0].boxplot(data['NumberOfTime30-59DaysPastDueNotWorse'])\n",
    "ax[0].set_title('NumberOfTime30-59DaysPastDueNotWorse')\n",
    "ax[1].boxplot(data['NumberOfTime60-89DaysPastDueNotWorse'])\n",
    "ax[1].set_title('NumberOfTime60-89DaysPastDueNotWorse')\n",
    "ax[2].boxplot(data['NumberOfTimes90DaysLate'])\n",
    "ax[2].set_title('NumberOfTimes90DaysLate')"
   ]
  },
  {
   "cell_type": "markdown",
   "metadata": {},
   "source": [
    "每个Feature里面都有2个异常值，需要删除"
   ]
  },
  {
   "cell_type": "code",
   "execution_count": 19,
   "metadata": {},
   "outputs": [],
   "source": [
    "data = data.loc[(data.NumberOfTimes90DaysLate<=20)&(data['NumberOfTime30-59DaysPastDueNotWorse']<=20)&(data['NumberOfTime60-89DaysPastDueNotWorse']<=20)]"
   ]
  },
  {
   "cell_type": "markdown",
   "metadata": {},
   "source": [
    "### 1.4.4 MonthlyIncome "
   ]
  },
  {
   "cell_type": "code",
   "execution_count": 20,
   "metadata": {},
   "outputs": [
    {
     "data": {
      "image/png": "[encoded data removed]",
      "text/plain": [
       "<Figure size 360x360 with 1 Axes>"
      ]
     },
     "metadata": {
      "needs_background": "light"
     },
     "output_type": "display_data"
    }
   ],
   "source": [
    "plt.figure(figsize=(5,5))\n",
    "plt.boxplot(data.MonthlyIncome)\n",
    "plt.show()"
   ]
  },
  {
   "cell_type": "markdown",
   "metadata": {},
   "source": [
    "有的月收入超过500000，设定为500000"
   ]
  },
  {
   "cell_type": "code",
   "execution_count": 21,
   "metadata": {},
   "outputs": [
    {
     "data": {
      "text/plain": [
       "12"
      ]
     },
     "execution_count": 21,
     "metadata": {},
     "output_type": "execute_result"
    }
   ],
   "source": [
    "len(data.loc[data.MonthlyIncome>500000])"
   ]
  },
  {
   "cell_type": "code",
   "execution_count": 22,
   "metadata": {},
   "outputs": [],
   "source": [
    "data.loc[data.MonthlyIncome>500000,'MonthlyIncome'] = 500000"
   ]
  },
  {
   "cell_type": "markdown",
   "metadata": {},
   "source": [
    "### 1.4.5 NumberOfOpenCreditLinesAndLoans & NumberRealEstateLoansOrLines"
   ]
  },
  {
   "cell_type": "code",
   "execution_count": 23,
   "metadata": {},
   "outputs": [
    {
     "data": {
      "image/png": "[encoded data removed]",
      "text/plain": [
       "<Figure size 432x360 with 2 Axes>"
      ]
     },
     "metadata": {
      "needs_background": "light"
     },
     "output_type": "display_data"
    }
   ],
   "source": [
    "fig,ax = plt.subplots(1,2, figsize = (6,5))\n",
    "plt.subplots_adjust(wspace=5)\n",
    "ax[0].boxplot(data['NumberOfOpenCreditLinesAndLoans'])\n",
    "ax[1].boxplot(data['NumberRealEstateLoansOrLines'])\n",
    "ax[0].set_title('NumberOfOpenCreditLinesAndLoans')\n",
    "ax[1].set_title('NumberRealEstateLoansOrLines')\n",
    "plt.show()"
   ]
  },
  {
   "cell_type": "markdown",
   "metadata": {},
   "source": [
    "没明显异常值"
   ]
  },
  {
   "cell_type": "markdown",
   "metadata": {},
   "source": [
    "### 1.4.6 NumberOfDependents"
   ]
  },
  {
   "cell_type": "code",
   "execution_count": 24,
   "metadata": {},
   "outputs": [
    {
     "data": {
      "image/png": "[encoded data removed]",
      "text/plain": [
       "<Figure size 360x216 with 1 Axes>"
      ]
     },
     "metadata": {
      "needs_background": "light"
     },
     "output_type": "display_data"
    }
   ],
   "source": [
    "plt.figure(figsize=(5,3))\n",
    "plt.boxplot(data.NumberOfDependents)\n",
    "plt.show()"
   ]
  },
  {
   "cell_type": "markdown",
   "metadata": {},
   "source": [
    "家属人数超过5个的，设定为5个"
   ]
  },
  {
   "cell_type": "code",
   "execution_count": 25,
   "metadata": {},
   "outputs": [
    {
     "data": {
      "text/plain": [
       "848"
      ]
     },
     "execution_count": 25,
     "metadata": {},
     "output_type": "execute_result"
    }
   ],
   "source": [
    "(data.NumberOfDependents>=5).sum()"
   ]
  },
  {
   "cell_type": "code",
   "execution_count": 26,
   "metadata": {},
   "outputs": [],
   "source": [
    "data.loc[data.NumberOfDependents>=5,'NumberOfDependents'] = 5"
   ]
  },
  {
   "cell_type": "markdown",
   "metadata": {},
   "source": [
    "# 2. EDA"
   ]
  },
  {
   "cell_type": "markdown",
   "metadata": {},
   "source": [
    "## 2.1 Tatget"
   ]
  },
  {
   "cell_type": "code",
   "execution_count": 27,
   "metadata": {},
   "outputs": [
    {
     "data": {
      "text/plain": [
       "<matplotlib.axes._subplots.AxesSubplot at 0x274ad02e048>"
      ]
     },
     "execution_count": 27,
     "metadata": {},
     "output_type": "execute_result"
    },
    {
     "data": {
      "image/png": "[encoded data removed]",
      "text/plain": [
       "<Figure size 432x288 with 1 Axes>"
      ]
     },
     "metadata": {
      "needs_background": "light"
     },
     "output_type": "display_data"
    }
   ],
   "source": [
    "data.SeriousDlqin2yrs.value_counts().plot.bar()"
   ]
  },
  {
   "cell_type": "code",
   "execution_count": 28,
   "metadata": {
    "scrolled": true
   },
   "outputs": [
    {
     "data": {
      "text/plain": [
       "1    0.940303\n",
       "0    0.059697\n",
       "Name: SeriousDlqin2yrs, dtype: float64"
      ]
     },
     "execution_count": 28,
     "metadata": {},
     "output_type": "execute_result"
    }
   ],
   "source": [
    "data.SeriousDlqin2yrs.value_counts()/len(data)"
   ]
  },
  {
   "cell_type": "markdown",
   "metadata": {},
   "source": [
    "## 2.2 Age"
   ]
  },
  {
   "cell_type": "code",
   "execution_count": 29,
   "metadata": {},
   "outputs": [
    {
     "data": {
      "image/png": "[encoded data removed]",
      "text/plain": [
       "<Figure size 432x288 with 1 Axes>"
      ]
     },
     "metadata": {
      "needs_background": "light"
     },
     "output_type": "display_data"
    }
   ],
   "source": [
    "plt.hist(data.age,density=True, bins = 20)\n",
    "sns.kdeplot(data.age)\n",
    "plt.show()"
   ]
  },
  {
   "cell_type": "markdown",
   "metadata": {},
   "source": [
    "## 2.3 Correlation"
   ]
  },
  {
   "cell_type": "code",
   "execution_count": 30,
   "metadata": {},
   "outputs": [
    {
     "data": {
      "text/plain": [
       "<matplotlib.axes._subplots.AxesSubplot at 0x274a9ffca88>"
      ]
     },
     "execution_count": 30,
     "metadata": {},
     "output_type": "execute_result"
    },
    {
     "data": {
      "image/png": "[encoded data removed]",
      "text/plain": [
       "<Figure size 720x720 with 2 Axes>"
      ]
     },
     "metadata": {
      "needs_background": "light"
     },
     "output_type": "display_data"
    }
   ],
   "source": [
    "plt.figure(figsize = (10,10))\n",
    "corr = data.corr()\n",
    "sns.heatmap(corr, cmap = 'RdBu', annot = True)"
   ]
  },
  {
   "cell_type": "markdown",
   "metadata": {},
   "source": [
    "# 3. Model"
   ]
  },
  {
   "cell_type": "markdown",
   "metadata": {},
   "source": [
    "## 3.1 Split Data"
   ]
  },
  {
   "cell_type": "code",
   "execution_count": 31,
   "metadata": {},
   "outputs": [],
   "source": [
    "from sklearn.model_selection import train_test_split\n",
    "y = data['SeriousDlqin2yrs']\n",
    "X = data.drop(columns=['SeriousDlqin2yrs'])\n",
    "X_train, X_test, y_train, y_test = train_test_split(X, y, train_size = 0.8)\n",
    "train = pd.concat([y_train, X_train], axis = 1).reset_index(drop = True)\n",
    "test = pd.concat([y_test, X_test], axis = 1).reset_index(drop = True)\n",
    "test.to_csv('../scorecard/origin_test.csv', index = False)"
   ]
  },
  {
   "cell_type": "markdown",
   "metadata": {},
   "source": [
    "## 3.2 Feature Engineering"
   ]
  },
  {
   "cell_type": "markdown",
   "metadata": {},
   "source": [
    "### 3.2.1 分箱 Binning\n",
    "+ 等距分段(Equal length intervals): 分段区间一致,如年龄为十年作为一个分段\n",
    "+ 等深分段(Equal frequency intervals): 先确定分段数量，然后令每个分段中数据量大致相等\n",
    "+ 最优分段(Optimal Binning): 根据变量是分布属性，结合改变量对违约状态变量预测能力的变化，将属性接近的数值聚合在一起，形成距离不相等的若干区间，最终得到对违约状态变量预测能力最强的最优分段  \n",
    "\n",
    "首先选择最优分段，在连续变量分布不满足最优分段要求时，进行等距分段"
   ]
  },
  {
   "cell_type": "markdown",
   "metadata": {},
   "source": [
    "### Decision Tree based Optimal Binning\n",
    "这里使用决策树进行最优分箱"
   ]
  },
  {
   "cell_type": "code",
   "execution_count": 32,
   "metadata": {},
   "outputs": [],
   "source": [
    "def decision_tree_optimal_binning_boundary(X: pd.Series, y: pd.Series, max_leaf_nodes = 6):\n",
    "    '''\n",
    "    使用决策树进行最优分箱\n",
    "    \n",
    "    输入：X，y, 最多分段数量\n",
    "    \n",
    "    输出：分箱边界\n",
    "    '''\n",
    "    \n",
    "    boundary = [float('-inf')]\n",
    "    \n",
    "    X = X.values\n",
    "    y = y.values\n",
    "    \n",
    "    clf = DecisionTreeClassifier(criterion='entropy', max_leaf_nodes=max_leaf_nodes, min_samples_leaf=0.05)\n",
    "    clf.fit(X.reshape(-1,1), y)\n",
    "    \n",
    "    children_left = clf.tree_.children_left\n",
    "    children_right = clf.tree_.children_right\n",
    "\n",
    "    boundaries = np.sort(clf.tree_.threshold[children_left != children_right])\n",
    "    boundary = boundary+ list(boundaries)\n",
    "    boundary.append(float('inf'))\n",
    "    \n",
    "    return boundary"
   ]
  },
  {
   "cell_type": "code",
   "execution_count": 33,
   "metadata": {
    "scrolled": false
   },
   "outputs": [
    {
     "data": {
      "text/plain": [
       "[-inf, 35.5, 53.5, 56.5, 63.5, 67.5, inf]"
      ]
     },
     "execution_count": 33,
     "metadata": {},
     "output_type": "execute_result"
    }
   ],
   "source": [
    "decision_tree_optimal_binning_boundary(X['age'],y)"
   ]
  },
  {
   "cell_type": "markdown",
   "metadata": {},
   "source": [
    "### 计算WOE和IV值 WOE & IV for binning features\n",
    "\n",
    "#### WOE (Weight Of Evidence)：\n",
    "+ 描述自变量和目标变量之间的预测性关系\n",
    "+ 计算： ![](https://img-blog.csdnimg.cn/20181206161200197.png)\n",
    "假设good为好客户（未违约），bad为坏客户（违约）。  \n",
    "#good(i)表示每组中标签为good的数量，#good(T)为good的总数量；bad相同。\n",
    "\n",
    "#### IV (Information Value)： \n",
    "+ 衡量一个变量的信息量\n",
    "+ 计算： ![](https://img-blog.csdnimg.cn/20181206161306406.png)\n",
    "N为分组的组数\n",
    "+ VI代表一个变量的预测能力\n",
    "\n",
    "|IV|预测能力|\n",
    "|-|-|\n",
    "|< 0.03|无预测能力|\n",
    "|0.03 - 0.09|弱|\n",
    "|0.1 - 0.29|中|\n",
    "|0.3 - 0.49|强|\n",
    "|> 0.49|极强|"
   ]
  },
  {
   "cell_type": "code",
   "execution_count": 34,
   "metadata": {},
   "outputs": [],
   "source": [
    "def feature_woe_iv(X: pd.Series, y = pd.Series, binning_function = decision_tree_optimal_binning_boundary,\n",
    "                   max_leaf_nodes=10, boundary = None):\n",
    "    '''\n",
    "    计算WOE和IV值\n",
    "    \n",
    "    输入： X, y, 分箱函数（如已经有分箱边界，可忽略），最多分箱数， 分箱边界\n",
    "    \n",
    "    输出：\n",
    "    分箱信息（每组中good数量&百分比、bad数量&百分比、总数、WOE、每组IV）\n",
    "    分箱IV值\n",
    "    分箱边界\n",
    "    '''\n",
    "    if boundary == None: boundary = binning_function(X,y,max_leaf_nodes)\n",
    "    if len(boundary) == 2:return None,None,None\n",
    "    df = pd.concat([X,y], axis = 1)\n",
    "    df.columns = ['X','y']\n",
    "    df['bins'] = pd.cut(X, bins = boundary)\n",
    "    \n",
    "    grouped = df.groupby('bins')['y']\n",
    "    result_df = grouped.agg([('good', lambda y:(y==1).sum()),\n",
    "                            ('bad', lambda y:(y==0).sum()),\n",
    "                            ('total', 'count')])\n",
    "    \n",
    "    result_df['good_pct'] =  result_df['good']/result_df['good'].sum()\n",
    "    result_df['bad_pct'] = result_df['bad']/result_df['bad'].sum()\n",
    "    \n",
    "    result_df['woe'] = np.log(result_df['good_pct']/result_df['bad_pct'])\n",
    "    result_df['iv'] = (result_df['good_pct']-result_df['bad_pct'])*result_df['woe']\n",
    "    feature_iv = sum(result_df['iv'])\n",
    "    \n",
    "    return result_df, feature_iv, boundary"
   ]
  },
  {
   "cell_type": "code",
   "execution_count": 35,
   "metadata": {},
   "outputs": [
    {
     "data": {
      "text/plain": [
       "(               good   bad  total  good_pct   bad_pct       woe        iv\n",
       " bins                                                                    \n",
       " (-inf, 29.5]   5881   663   6544  0.056146  0.099699 -0.574205  0.025009\n",
       " (29.5, 35.5]   9091   894   9985  0.086792  0.134436 -0.437578  0.020848\n",
       " (35.5, 42.5]  14198  1204  15402  0.135548  0.181053 -0.289460  0.013172\n",
       " (42.5, 53.5]  28368  2121  30489  0.270829  0.318947 -0.163538  0.007869\n",
       " (53.5, 56.5]   7452   438   7890  0.071144  0.065865  0.077107  0.000407\n",
       " (56.5, 60.5]   9313   445   9758  0.088911  0.066917  0.284180  0.006250\n",
       " (60.5, 63.5]   7406   305   7711  0.070705  0.045865  0.432822  0.010751\n",
       " (63.5, 67.5]   7257   223   7480  0.069283  0.033534  0.725638  0.025941\n",
       " (67.5, 74.5]   8263   202   8465  0.078887  0.030376  0.954363  0.046297\n",
       " (74.5, inf]    7516   155   7671  0.071755  0.023308  1.124452  0.054476,\n",
       " 0.21102020649379816,\n",
       " [-inf, 29.5, 35.5, 42.5, 53.5, 56.5, 60.5, 63.5, 67.5, 74.5, inf])"
      ]
     },
     "execution_count": 35,
     "metadata": {},
     "output_type": "execute_result"
    }
   ],
   "source": [
    "feature_woe_iv(X['age'],y)"
   ]
  },
  {
   "cell_type": "code",
   "execution_count": 36,
   "metadata": {},
   "outputs": [],
   "source": [
    "# 不能使用最优分箱？"
   ]
  },
  {
   "cell_type": "markdown",
   "metadata": {},
   "source": [
    "### 选择最优分箱 Choose optimal No. of bins\n",
    "根据IV值来调整分箱结构并重新计算WOE和IV，直到IV达到最大值，此时的分箱效果最好。"
   ]
  },
  {
   "cell_type": "code",
   "execution_count": 37,
   "metadata": {},
   "outputs": [],
   "source": [
    "def choose_num_bins(X, y, range_of_num_bins=range(5,21)):\n",
    "    '''\n",
    "    选择最优分箱（分箱数量）\n",
    "    \n",
    "    策略：最大化IV值\n",
    "    \n",
    "    输入： X，y, 分箱数量范围\n",
    "    \n",
    "    输出：\n",
    "    最优分箱数量\n",
    "    分箱信息（每组中good数量&百分比、bad数量&百分比、总数、WOE、每组IV）\n",
    "    分箱IV值\n",
    "    分箱边界\n",
    "    '''\n",
    "    iv_list = []\n",
    "    for num_bins in range_of_num_bins:\n",
    "        result_df, iv, boundary = feature_woe_iv(X,y,max_leaf_nodes=num_bins)\n",
    "        iv_list.append(iv)\n",
    "    iv_list = pd.Series(iv_list,index = range_of_num_bins)\n",
    "    if sum(iv_list.notnull()) == 0: \n",
    "        print('Cannot perform optimal binning. Please manually bin the feature.')\n",
    "        return None,None,None,None\n",
    "    opt_num_bins = iv_list.idxmax()\n",
    "    result_df, iv, boundary = feature_woe_iv(X,y,max_leaf_nodes=opt_num_bins)\n",
    "    return opt_num_bins, result_df, iv, boundary"
   ]
  },
  {
   "cell_type": "code",
   "execution_count": 38,
   "metadata": {
    "scrolled": true
   },
   "outputs": [
    {
     "name": "stdout",
     "output_type": "stream",
     "text": [
      "Cannot perform optimal binning. Please manually bin the feature.\n"
     ]
    },
    {
     "data": {
      "text/plain": [
       "(None, None, None, None)"
      ]
     },
     "execution_count": 38,
     "metadata": {},
     "output_type": "execute_result"
    }
   ],
   "source": [
    "choose_num_bins(X['NumberOfTime60-89DaysPastDueNotWorse'],y)"
   ]
  },
  {
   "cell_type": "markdown",
   "metadata": {},
   "source": [
    "### 合并分箱结果 Binning all features"
   ]
  },
  {
   "cell_type": "code",
   "execution_count": 39,
   "metadata": {},
   "outputs": [],
   "source": [
    "features = ['RevolvingUtilizationOfUnsecuredLines', 'age','NumberOfTime30-59DaysPastDueNotWorse', 'DebtRatio', 'MonthlyIncome',\n",
    "'NumberOfOpenCreditLinesAndLoans', 'NumberOfTimes90DaysLate','NumberRealEstateLoansOrLines', 'NumberOfTime60-89DaysPastDueNotWorse',\n",
    "'NumberOfDependents']"
   ]
  },
  {
   "cell_type": "code",
   "execution_count": 40,
   "metadata": {},
   "outputs": [
    {
     "name": "stdout",
     "output_type": "stream",
     "text": [
      "Cannot perform optimal binning. Please manually bin the feature.\n",
      "Feature Name NumberOfTimes90DaysLate\n",
      "\n",
      "\n",
      "Cannot perform optimal binning. Please manually bin the feature.\n",
      "Feature Name NumberOfTime60-89DaysPastDueNotWorse\n",
      "\n",
      "\n"
     ]
    }
   ],
   "source": [
    "binning_result_list = []\n",
    "failed_features = []\n",
    "for feature in features:\n",
    "    _, result_df, iv, boundary= choose_num_bins(data[feature],data['SeriousDlqin2yrs'])\n",
    "    if iv == None:\n",
    "        failed_features.append(feature)\n",
    "        print('Feature Name', feature)\n",
    "        print('\\n')\n",
    "        continue\n",
    "    binning_result_list.append((feature,result_df,iv,boundary))"
   ]
  },
  {
   "cell_type": "code",
   "execution_count": 41,
   "metadata": {},
   "outputs": [
    {
     "data": {
      "text/plain": [
       "8"
      ]
     },
     "execution_count": 41,
     "metadata": {},
     "output_type": "execute_result"
    }
   ],
   "source": [
    "len(binning_result_list)"
   ]
  },
  {
   "cell_type": "code",
   "execution_count": 42,
   "metadata": {},
   "outputs": [
    {
     "data": {
      "text/plain": [
       "('RevolvingUtilizationOfUnsecuredLines',\n",
       "                     good   bad  total  good_pct   bad_pct       woe        iv\n",
       " bins                                                                         \n",
       " (-inf, 4.96e-06]    7610   254   7864  0.072653  0.038195  0.642972  0.022155\n",
       " (4.96e-06, 0.0109]  8619   112   8731  0.082286  0.016842  1.586314  0.103814\n",
       " (0.0109, 0.0262]    8599   134   8733  0.082095  0.020150  1.404649  0.087010\n",
       " (0.0262, 0.0415]    6397    82   6479  0.061072  0.012331  1.599953  0.077984\n",
       " (0.0415, 0.0595]    5796   104   5900  0.055334  0.015639  1.263620  0.050160\n",
       " (0.0595, 0.0972]    8364   185   8549  0.079851  0.027820  1.054424  0.054863\n",
       " (0.0972, 0.137]     6178   156   6334  0.058981  0.023459  0.921982  0.032751\n",
       " (0.137, 0.216]      8948   294   9242  0.085427  0.044211  0.658694  0.027149\n",
       " (0.216, 0.314]      8092   324   8416  0.077254  0.048722  0.460976  0.013153\n",
       " (0.314, 0.397]      5349   287   5636  0.051067  0.043158  0.168271  0.001331\n",
       " (0.397, 0.495]      5363   358   5721  0.051201  0.053835 -0.050166  0.000132\n",
       " (0.495, 0.705]      8747   907   9654  0.083508  0.136391 -0.490588  0.025944\n",
       " (0.705, 0.849]      4842   744   5586  0.046227  0.111880 -0.883870  0.058029\n",
       " (0.849, 0.972]      4576  1010   5586  0.043687  0.151880 -1.246037  0.134812\n",
       " (0.972, inf]        7265  1699   8964  0.069359  0.255489 -1.303884  0.242692,\n",
       " 0.9319778190780352,\n",
       " [-inf,\n",
       "  4.964999789081048e-06,\n",
       "  0.010875608306378126,\n",
       "  0.026211803779006004,\n",
       "  0.0415477529168129,\n",
       "  0.059547826647758484,\n",
       "  0.09717195481061935,\n",
       "  0.13687057048082352,\n",
       "  0.21589520573616028,\n",
       "  0.3143209367990494,\n",
       "  0.3970474302768707,\n",
       "  0.49497613310813904,\n",
       "  0.7050344347953796,\n",
       "  0.848592072725296,\n",
       "  0.9722827672958374,\n",
       "  inf])"
      ]
     },
     "execution_count": 42,
     "metadata": {},
     "output_type": "execute_result"
    }
   ],
   "source": [
    "binning_result_list[0]"
   ]
  },
  {
   "cell_type": "markdown",
   "metadata": {},
   "source": [
    "### 手动分箱 Manual feature binning\n",
    "分箱依据：业务经验"
   ]
  },
  {
   "cell_type": "code",
   "execution_count": 43,
   "metadata": {},
   "outputs": [],
   "source": [
    "cut_90 = [float('-inf'),0,1,3,5,float('inf')]\n",
    "cut_60_89 = [float('-inf'),0,1,3,float('inf')]"
   ]
  },
  {
   "cell_type": "code",
   "execution_count": 44,
   "metadata": {},
   "outputs": [],
   "source": [
    "result_df_90, iv_90, boundary_90 = feature_woe_iv(data['NumberOfTimes90DaysLate'], data['SeriousDlqin2yrs'], boundary=cut_90)\n",
    "result_df_60, iv_60, boundary_60 = feature_woe_iv(data['NumberOfTime60-89DaysPastDueNotWorse'], data['SeriousDlqin2yrs'], boundary=cut_60_89)"
   ]
  },
  {
   "cell_type": "code",
   "execution_count": 45,
   "metadata": {},
   "outputs": [],
   "source": [
    "# 合并所有分箱结果\n",
    "binning_result_list.append(('NumberOfTimes90DaysLate', result_df_90, iv_90, boundary_90))\n",
    "binning_result_list.append(('NumberOfTime60-89DaysPastDueNotWorse', result_df_60, iv_60, boundary_60))"
   ]
  },
  {
   "cell_type": "code",
   "execution_count": 46,
   "metadata": {},
   "outputs": [
    {
     "data": {
      "text/plain": [
       "0    RevolvingUtilizationOfUnsecuredLines\n",
       "1                                     age\n",
       "2    NumberOfTime30-59DaysPastDueNotWorse\n",
       "3                               DebtRatio\n",
       "4                           MonthlyIncome\n",
       "5         NumberOfOpenCreditLinesAndLoans\n",
       "6            NumberRealEstateLoansOrLines\n",
       "7                      NumberOfDependents\n",
       "8                 NumberOfTimes90DaysLate\n",
       "9    NumberOfTime60-89DaysPastDueNotWorse\n",
       "dtype: object"
      ]
     },
     "execution_count": 46,
     "metadata": {},
     "output_type": "execute_result"
    }
   ],
   "source": [
    "binning_result_list_order = pd.Series([x[0] for x in binning_result_list])\n",
    "binning_result_list_order"
   ]
  },
  {
   "cell_type": "markdown",
   "metadata": {},
   "source": [
    "## 3.3 特征选择 Feature Selection\n",
    "根据IV值选择特征\n",
    "\n",
    "|IV|预测能力|\n",
    "|-|-|\n",
    "|< 0.03|无预测能力|\n",
    "|0.03 - 0.09|弱|\n",
    "|0.1 - 0.29|中|\n",
    "|0.3 - 0.49|强|\n",
    "|> 0.49|极强|\n",
    "\n",
    "删除IV值<0.1的特征"
   ]
  },
  {
   "cell_type": "code",
   "execution_count": 47,
   "metadata": {},
   "outputs": [
    {
     "data": {
      "text/plain": [
       "RevolvingUtilizationOfUnsecuredLines    0.931978\n",
       "age                                     0.211697\n",
       "NumberOfTime30-59DaysPastDueNotWorse    0.537583\n",
       "DebtRatio                               0.085336\n",
       "MonthlyIncome                           0.078866\n",
       "NumberOfOpenCreditLinesAndLoans         0.084424\n",
       "NumberRealEstateLoansOrLines            0.039290\n",
       "NumberOfDependents                      0.032074\n",
       "NumberOfTimes90DaysLate                 0.769158\n",
       "NumberOfTime60-89DaysPastDueNotWorse    0.475647\n",
       "dtype: float64"
      ]
     },
     "execution_count": 47,
     "metadata": {},
     "output_type": "execute_result"
    }
   ],
   "source": [
    "iv_list = [x[2] for x in binning_result_list]\n",
    "iv_list = pd.Series(iv_list, index = [x for x in features if x not in failed_features]+failed_features)\n",
    "iv_list"
   ]
  },
  {
   "cell_type": "code",
   "execution_count": 48,
   "metadata": {},
   "outputs": [
    {
     "data": {
      "text/plain": [
       "Text(0, 0.5, 'IV')"
      ]
     },
     "execution_count": 48,
     "metadata": {},
     "output_type": "execute_result"
    },
    {
     "data": {
      "image/png": "[encoded data removed]",
      "text/plain": [
       "<Figure size 360x360 with 1 Axes>"
      ]
     },
     "metadata": {
      "needs_background": "light"
     },
     "output_type": "display_data"
    }
   ],
   "source": [
    "plt.figure(figsize = (5,5))\n",
    "plt.yticks(np.arange(0,1,0.1))\n",
    "iv_list.sort_values(ascending=False).plot.bar()\n",
    "plt.ylabel('IV')"
   ]
  },
  {
   "cell_type": "markdown",
   "metadata": {},
   "source": [
    "将IV值小于0.1的变量删去  (即`DebtRatio`、`MonthlyIncome`、`NumberOfOpenCreditLinesAndLoans`、`NumberRealEstateLoansOrLines`和`NumberOfDependents`)"
   ]
  },
  {
   "cell_type": "markdown",
   "metadata": {},
   "source": [
    "## 3.4 WOE转换 WOE Transformation\n",
    "把特征值转换为WOE\n"
   ]
  },
  {
   "cell_type": "code",
   "execution_count": 49,
   "metadata": {},
   "outputs": [],
   "source": [
    "def woe_transformation(df, binning_result_df_list):\n",
    "    '''\n",
    "    把特征值转换为WOE\n",
    "    \n",
    "    输入： 元素数据， 分箱结果（特征顺序要一一对应）\n",
    "    \n",
    "    输出： 转换后的数据\n",
    "    '''\n",
    "    df_binned = df[[x[0] for x in binning_result_df_list]]\n",
    "    for i in range(0,df_binned.shape[1]):\n",
    "        woe_dict = binning_result_df_list[i][1]['woe'].to_dict() # 设定特征对应的WOE字典\n",
    "        df_binned.iloc[:,i] = df_binned.iloc[:,i].map(woe_dict)\n",
    "    \n",
    "    return df_binned"
   ]
  },
  {
   "cell_type": "code",
   "execution_count": 50,
   "metadata": {
    "scrolled": false
   },
   "outputs": [],
   "source": [
    "features_to_keep = iv_list[iv_list > 0.1].index\n",
    "X_train_woe = woe_transformation(X_train, binning_result_list)[features_to_keep]\n",
    "X_test_woe = woe_transformation(X_test, binning_result_list)[features_to_keep]"
   ]
  },
  {
   "cell_type": "code",
   "execution_count": 51,
   "metadata": {},
   "outputs": [
    {
     "data": {
      "text/html": [
       "<div>\n",
       "<style scoped>\n",
       "    .dataframe tbody tr th:only-of-type {\n",
       "        vertical-align: middle;\n",
       "    }\n",
       "\n",
       "    .dataframe tbody tr th {\n",
       "        vertical-align: top;\n",
       "    }\n",
       "\n",
       "    .dataframe thead th {\n",
       "        text-align: right;\n",
       "    }\n",
       "</style>\n",
       "<table border=\"1\" class=\"dataframe\">\n",
       "  <thead>\n",
       "    <tr style=\"text-align: right;\">\n",
       "      <th></th>\n",
       "      <th>RevolvingUtilizationOfUnsecuredLines</th>\n",
       "      <th>age</th>\n",
       "      <th>NumberOfTime30-59DaysPastDueNotWorse</th>\n",
       "      <th>DebtRatio</th>\n",
       "      <th>MonthlyIncome</th>\n",
       "      <th>NumberOfOpenCreditLinesAndLoans</th>\n",
       "      <th>NumberOfTimes90DaysLate</th>\n",
       "      <th>NumberRealEstateLoansOrLines</th>\n",
       "      <th>NumberOfTime60-89DaysPastDueNotWorse</th>\n",
       "      <th>NumberOfDependents</th>\n",
       "    </tr>\n",
       "  </thead>\n",
       "  <tbody>\n",
       "    <tr>\n",
       "      <td>54690</td>\n",
       "      <td>0.008853</td>\n",
       "      <td>48</td>\n",
       "      <td>0</td>\n",
       "      <td>0.050216</td>\n",
       "      <td>4400.0</td>\n",
       "      <td>3</td>\n",
       "      <td>0</td>\n",
       "      <td>0</td>\n",
       "      <td>0</td>\n",
       "      <td>4.0</td>\n",
       "    </tr>\n",
       "    <tr>\n",
       "      <td>128280</td>\n",
       "      <td>0.038451</td>\n",
       "      <td>71</td>\n",
       "      <td>0</td>\n",
       "      <td>0.013485</td>\n",
       "      <td>3262.0</td>\n",
       "      <td>5</td>\n",
       "      <td>0</td>\n",
       "      <td>0</td>\n",
       "      <td>0</td>\n",
       "      <td>0.0</td>\n",
       "    </tr>\n",
       "    <tr>\n",
       "      <td>27990</td>\n",
       "      <td>0.034552</td>\n",
       "      <td>31</td>\n",
       "      <td>0</td>\n",
       "      <td>0.048670</td>\n",
       "      <td>5300.0</td>\n",
       "      <td>11</td>\n",
       "      <td>0</td>\n",
       "      <td>0</td>\n",
       "      <td>0</td>\n",
       "      <td>0.0</td>\n",
       "    </tr>\n",
       "    <tr>\n",
       "      <td>23925</td>\n",
       "      <td>0.372863</td>\n",
       "      <td>42</td>\n",
       "      <td>0</td>\n",
       "      <td>0.301434</td>\n",
       "      <td>23500.0</td>\n",
       "      <td>10</td>\n",
       "      <td>0</td>\n",
       "      <td>3</td>\n",
       "      <td>0</td>\n",
       "      <td>3.0</td>\n",
       "    </tr>\n",
       "    <tr>\n",
       "      <td>71213</td>\n",
       "      <td>0.031309</td>\n",
       "      <td>35</td>\n",
       "      <td>0</td>\n",
       "      <td>0.743851</td>\n",
       "      <td>3333.0</td>\n",
       "      <td>14</td>\n",
       "      <td>0</td>\n",
       "      <td>1</td>\n",
       "      <td>0</td>\n",
       "      <td>0.0</td>\n",
       "    </tr>\n",
       "  </tbody>\n",
       "</table>\n",
       "</div>"
      ],
      "text/plain": [
       "        RevolvingUtilizationOfUnsecuredLines  age  \\\n",
       "54690                               0.008853   48   \n",
       "128280                              0.038451   71   \n",
       "27990                               0.034552   31   \n",
       "23925                               0.372863   42   \n",
       "71213                               0.031309   35   \n",
       "\n",
       "        NumberOfTime30-59DaysPastDueNotWorse  DebtRatio  MonthlyIncome  \\\n",
       "54690                                      0   0.050216         4400.0   \n",
       "128280                                     0   0.013485         3262.0   \n",
       "27990                                      0   0.048670         5300.0   \n",
       "23925                                      0   0.301434        23500.0   \n",
       "71213                                      0   0.743851         3333.0   \n",
       "\n",
       "        NumberOfOpenCreditLinesAndLoans  NumberOfTimes90DaysLate  \\\n",
       "54690                                 3                        0   \n",
       "128280                                5                        0   \n",
       "27990                                11                        0   \n",
       "23925                                10                        0   \n",
       "71213                                14                        0   \n",
       "\n",
       "        NumberRealEstateLoansOrLines  NumberOfTime60-89DaysPastDueNotWorse  \\\n",
       "54690                              0                                     0   \n",
       "128280                             0                                     0   \n",
       "27990                              0                                     0   \n",
       "23925                              3                                     0   \n",
       "71213                              1                                     0   \n",
       "\n",
       "        NumberOfDependents  \n",
       "54690                  4.0  \n",
       "128280                 0.0  \n",
       "27990                  0.0  \n",
       "23925                  3.0  \n",
       "71213                  0.0  "
      ]
     },
     "execution_count": 51,
     "metadata": {},
     "output_type": "execute_result"
    }
   ],
   "source": [
    "X_train.head()"
   ]
  },
  {
   "cell_type": "markdown",
   "metadata": {},
   "source": [
    "## 3.5 逻辑回归 Logistic Regression\n",
    "**为什么选择logistic？**  \n",
    "$$p=\\frac{1}{1+e^{-\\theta^T x}}  \\Rightarrow  ln(\\frac{p}{1-p})=\\theta^T x =  \\theta_{0}+\\theta_{1}x_{1}+...+\\theta_{n}x_{n}$$\n",
    "方便制作评分卡"
   ]
  },
  {
   "cell_type": "code",
   "execution_count": 52,
   "metadata": {},
   "outputs": [
    {
     "name": "stdout",
     "output_type": "stream",
     "text": [
      "Optimization terminated successfully.\n",
      "         Current function value: 0.176814\n",
      "         Iterations 8\n",
      "                           Logit Regression Results                           \n",
      "==============================================================================\n",
      "Dep. Variable:       SeriousDlqin2yrs   No. Observations:                89116\n",
      "Model:                          Logit   Df Residuals:                    89110\n",
      "Method:                           MLE   Df Model:                            5\n",
      "Date:                Sun, 29 Mar 2020   Pseudo R-squ.:                  0.2146\n",
      "Time:                        15:27:17   Log-Likelihood:                -15757.\n",
      "converged:                       True   LL-Null:                       -20061.\n",
      "Covariance Type:            nonrobust   LLR p-value:                     0.000\n",
      "========================================================================================================\n",
      "                                           coef    std err          z      P>|z|      [0.025      0.975]\n",
      "--------------------------------------------------------------------------------------------------------\n",
      "const                                    2.7370      0.017    162.645      0.000       2.704       2.770\n",
      "RevolvingUtilizationOfUnsecuredLines     0.6663      0.018     37.808      0.000       0.632       0.701\n",
      "age                                      0.4734      0.038     12.317      0.000       0.398       0.549\n",
      "NumberOfTime30-59DaysPastDueNotWorse     0.5420      0.020     26.992      0.000       0.503       0.581\n",
      "NumberOfTimes90DaysLate                  0.5770      0.015     37.364      0.000       0.547       0.607\n",
      "NumberOfTime60-89DaysPastDueNotWorse     0.4619      0.020     23.091      0.000       0.423       0.501\n",
      "========================================================================================================\n"
     ]
    },
    {
     "name": "stderr",
     "output_type": "stream",
     "text": [
      "C:\\Users\\Junbo\\Anaconda3\\lib\\site-packages\\numpy\\core\\fromnumeric.py:2389: FutureWarning: Method .ptp is deprecated and will be removed in a future version. Use numpy.ptp instead.\n",
      "  return ptp(axis=axis, out=out, **kwargs)\n"
     ]
    }
   ],
   "source": [
    "import statsmodels.api as sm\n",
    "X_train_constant = sm.add_constant(X_train_woe)\n",
    "logistic_model = sm.Logit(y_train,X_train_constant)\n",
    "model_result = logistic_model.fit()\n",
    "print(model_result.summary())"
   ]
  },
  {
   "cell_type": "markdown",
   "metadata": {},
   "source": [
    "所有特征均显著"
   ]
  },
  {
   "cell_type": "code",
   "execution_count": 53,
   "metadata": {},
   "outputs": [],
   "source": [
    "coef = model_result.params"
   ]
  },
  {
   "cell_type": "markdown",
   "metadata": {},
   "source": [
    "## 3.6 评价模型 Model Evaluation\n",
    "**主要使用AUC和KS**\n",
    "#### KS\n",
    "+ KS用于模型风险区分能力进行评估，KS指标衡量的是好坏样本累计分布之间的差值。  \n",
    "好坏样本累计差异越大，KS指标越大，那么模型的风险区分能力越强。\n",
    "+ KS的计算步骤如下：\n",
    "    1. 计算每个评分区间的好坏账户数（计算的是特征的KS的话，是每个特征对应的好坏账户数）。\n",
    "    2. 计算每个评分区间的累计好账户数占总好账户数比率(good%)和累计坏账户数占总坏账户数比率(bad%)。\n",
    "    3. 计算每个评分区间累计坏账户占比与累计好账户占比差的绝对值（累计good%-累计bad%），然后对这些绝对值取最大值即得此评分卡的KS值。\n",
    "+ KS简便计算： $KS = max(TPR-FPR)$\n",
    "+ KS>0.2代表有较好预测准确性\n",
    "\n",
    "#### 图像区别：\n",
    "+ ROC曲线用FPR作为横轴，TPR作为纵轴，采用描点法绘制，图中总共是一条线\n",
    "+ KS曲线的横轴则是不同的概率判断阈值，图中一共有两条线，分别代表了FPR值和TPR值"
   ]
  },
  {
   "cell_type": "code",
   "execution_count": 54,
   "metadata": {},
   "outputs": [],
   "source": [
    "X_test_constant = sm.add_constant(X_test_woe)\n",
    "y_pred = model_result.predict(X_test_constant)"
   ]
  },
  {
   "cell_type": "code",
   "execution_count": 55,
   "metadata": {
    "scrolled": true
   },
   "outputs": [
    {
     "data": {
      "image/png": "[encoded data removed]",
      "text/plain": [
       "<Figure size 432x288 with 1 Axes>"
      ]
     },
     "metadata": {
      "needs_background": "light"
     },
     "output_type": "display_data"
    }
   ],
   "source": [
    "from sklearn.metrics import roc_auc_score\n",
    "from sklearn.metrics import roc_curve\n",
    "fpr,tpr,threshold = roc_curve(y_test,y_pred)\n",
    "plt.plot(fpr, tpr, label = 'ROC Curve, AUC = {:.2f}, KS = {:.2f}'.format(roc_auc_score(y_test,y_pred), max(tpr-fpr)))\n",
    "plt.plot((0,1), (0,1), linestyle='dashed', color = 'blue')\n",
    "plt.xlabel('False Positive Rate')\n",
    "plt.ylabel('True Positive Rate')\n",
    "plt.legend()\n",
    "plt.title('ROC Curve')\n",
    "plt.show()"
   ]
  },
  {
   "cell_type": "code",
   "execution_count": 56,
   "metadata": {},
   "outputs": [
    {
     "data": {
      "image/png": "[encoded data removed]",
      "text/plain": [
       "<Figure size 432x288 with 1 Axes>"
      ]
     },
     "metadata": {
      "needs_background": "light"
     },
     "output_type": "display_data"
    }
   ],
   "source": [
    "plt.xlim(0,1)\n",
    "plt.plot(1-threshold, fpr, label = 'FPR')\n",
    "plt.plot(1-threshold, tpr, label = 'TPR')\n",
    "plt.plot(1-threshold, tpr-fpr, label = 'KS', linestyle= 'dashed')\n",
    "plt.legend()\n",
    "plt.xlabel('Threshold')\n",
    "plt.title('KS Curve (KS = {:.2f})'.format(max(tpr-fpr)))\n",
    "plt.show()"
   ]
  },
  {
   "cell_type": "markdown",
   "metadata": {},
   "source": [
    "模型AUC达到0.84，KS达到0.51， 说明分类效果较好"
   ]
  },
  {
   "cell_type": "markdown",
   "metadata": {},
   "source": [
    "# 4. 评分卡 Scorecard\n",
    "\n",
    "**表达式：**评分卡设定的分值刻度可以通过将分值表示为比率对数的现行表达式来定义。公式如下：\n",
    "\n",
    "$$score_{总}=A+B*ln(odds)=A+B*ln(\\theta)$$\n",
    "\n",
    "$$其中 \\theta (odds/好坏比)：\\theta=\\frac{好客户概率}{坏客户概率}=\\frac{p}{1-p}, p是模型预测结果\\Rightarrow ln(\\theta) = ln(\\frac{p}{1-p}) = \\theta^T x = \\theta_{0}+\\theta_{1}x_{1}+...+\\theta_{n}x_{n}$$\n",
    "\n",
    "$$综上\\Rightarrow score_{总}=A+B*(\\theta^T x)=A+B*( \\theta_{0}+\\theta_{1}x_{1}+...+\\theta_{n}x_{n}) = (A+B*\\theta_{0}) + B*\\theta_{1}x_{1}+...+B*\\theta_{n}x_{n}$$\n",
    "\n",
    "\n",
    "+ 这里$\\theta_{1},\\theta_{2},...\\theta_{n}$是Logistic Regression中不同变量$x_{1},x_{2},...x_{n}$的系数。$\\theta_{0}$是截距。  \n",
    "+ $(A+B*\\theta_{0})$为基础分数，$B*\\theta_{1}x_{1}+...+B*\\theta_{n}x_{n}$为每个变量对应分配到的分数。  \n",
    "+ 假设第n个变量被分成k组，$x_{n}$代表该特征值所在组的WOE值, 即$x_{n}=\\left\\{\n",
    "\\begin{aligned}\n",
    "WOE_{n,1}\\text{,  if in Group 1}\\\\\n",
    "WOE_{n,2}\\text{,  if in Group 2}\\\\\n",
    "...\\\\\n",
    "WOE_{n,k}\\text{,  if in Group k}\\\\\n",
    "\\end{aligned}\n",
    "\\right.$"
   ]
  },
  {
   "cell_type": "markdown",
   "metadata": {},
   "source": [
    "## 4.1 基本分 Baes Score\n",
    "$A+B*\\theta_{0}$  \n",
    "\n",
    "**假设：**\n",
    "+ 基础分：600\n",
    "+ PDO(points to double the odds): 20  \n",
    "    + odds：$好坏比 \\theta=\\frac{好客户概率}{坏客户概率}=\\frac{p}{1-p}$, 其中p是模型预测结果\n",
    "    + PDO: 好坏比翻一倍所需要的分数\n",
    "\n",
    "根据PDO定义，假设比率为$\\theta$（也就是odds）的特定点分值为$P_{0}$，比率为$2\\theta$的点的分值为$P_{0}+PDO$\n",
    "则有：\n",
    "$$ \\left\\{\n",
    "\\begin{aligned}\n",
    "P_{0}=A+B*ln(\\theta)\\\\\n",
    "P_{0}+PDO=A+B*ln(2\\theta)\\\\\n",
    "\\end{aligned}\n",
    "\\right.\n",
    "\\Rightarrow \n",
    "\\left\\{\n",
    "\\begin{aligned}\n",
    "B=\\frac{PDO}{ln(2)}\\\\\n",
    "A=P_{0}-Bln(\\theta)\\\\\n",
    "\\end{aligned}\n",
    "\\right.\n",
    "$$"
   ]
  },
  {
   "cell_type": "code",
   "execution_count": 57,
   "metadata": {
    "scrolled": true
   },
   "outputs": [
    {
     "data": {
      "text/plain": [
       "599.0"
      ]
     },
     "execution_count": 57,
     "metadata": {},
     "output_type": "execute_result"
    }
   ],
   "source": [
    "theta = y_train.value_counts()[1]/y_train.value_counts()[0]\n",
    "B = 20/np.log(2) # B:刻度\n",
    "A = 600 - B*np.log(theta) # A:补偿\n",
    "base_score = round(A+B*coef[0])\n",
    "base_score"
   ]
  },
  {
   "cell_type": "markdown",
   "metadata": {},
   "source": [
    "## 4.2 特征分 Feature Scores\n",
    "$B*\\theta_{1}x_{1}+...+B*\\theta_{n}x_{n}$"
   ]
  },
  {
   "cell_type": "code",
   "execution_count": 58,
   "metadata": {
    "scrolled": true
   },
   "outputs": [
    {
     "data": {
      "text/plain": [
       "0    RevolvingUtilizationOfUnsecuredLines\n",
       "1                                     age\n",
       "2    NumberOfTime30-59DaysPastDueNotWorse\n",
       "8                 NumberOfTimes90DaysLate\n",
       "9    NumberOfTime60-89DaysPastDueNotWorse\n",
       "dtype: object"
      ]
     },
     "execution_count": 58,
     "metadata": {},
     "output_type": "execute_result"
    }
   ],
   "source": [
    "# 输入变量\n",
    "binning_result_list_order[binning_result_list_order.apply(lambda x: True if x in features_to_keep else False).values]"
   ]
  },
  {
   "cell_type": "code",
   "execution_count": 59,
   "metadata": {},
   "outputs": [],
   "source": [
    "def transform_features_to_woe(input_features: list, binning_result_df_list = binning_result_list):\n",
    "    feature_index = binning_result_list_order[binning_result_list_order.apply(lambda x: True if x in features_to_keep else False).values].index\n",
    "    i = 0\n",
    "    input_features_woe = []\n",
    "    for idx in feature_index:\n",
    "        woe_dict = binning_result_df_list[idx][1]['woe'].to_dict()\n",
    "        input_features_woe.append(pd.Series(input_features[i]).map(woe_dict)[0])\n",
    "        i += 1\n",
    "    return input_features_woe"
   ]
  },
  {
   "cell_type": "code",
   "execution_count": 60,
   "metadata": {},
   "outputs": [
    {
     "data": {
      "text/plain": [
       "[-1.3038835159658944,\n",
       " -0.43757755335000137,\n",
       " -1.2061258645877135,\n",
       " -1.9626520373918803,\n",
       " -1.792717206346416]"
      ]
     },
     "execution_count": 60,
     "metadata": {},
     "output_type": "execute_result"
    }
   ],
   "source": [
    "feature_woe = transform_features_to_woe([3,35,2,1,1],binning_result_list)\n",
    "feature_woe"
   ]
  },
  {
   "cell_type": "code",
   "execution_count": 61,
   "metadata": {
    "scrolled": true
   },
   "outputs": [
    {
     "data": {
      "text/plain": [
       "-106.47831373567301"
      ]
     },
     "execution_count": 61,
     "metadata": {},
     "output_type": "execute_result"
    }
   ],
   "source": [
    "sum(feature_woe*coef[1:])*B"
   ]
  },
  {
   "cell_type": "markdown",
   "metadata": {},
   "source": [
    "## 4.3 总分 Total Score = Base Score + Feature Scores"
   ]
  },
  {
   "cell_type": "code",
   "execution_count": 62,
   "metadata": {},
   "outputs": [],
   "source": [
    "def total_score(input_features, base_score = 600, PDO = 20, binning_result_df_list = binning_result_list):\n",
    "    B = PDO/np.log(2)\n",
    "    A = base_score - B*np.log(theta)\n",
    "    base_score = round(A+B*coef[0],0)\n",
    "    \n",
    "    feature_woe = transform_features_to_woe(input_features,binning_result_df_list)\n",
    "    feature_score = sum(feature_woe*coef[1:])*B\n",
    "    \n",
    "    total_score = round(base_score+feature_score,0)\n",
    "    \n",
    "    return total_score"
   ]
  },
  {
   "cell_type": "code",
   "execution_count": 63,
   "metadata": {},
   "outputs": [
    {
     "data": {
      "text/plain": [
       "493.0"
      ]
     },
     "execution_count": 63,
     "metadata": {},
     "output_type": "execute_result"
    }
   ],
   "source": [
    "total_score([3,35,2,1,float(1)],600,20,binning_result_list)"
   ]
  },
  {
   "cell_type": "code",
   "execution_count": 64,
   "metadata": {
    "scrolled": false
   },
   "outputs": [
    {
     "data": {
      "text/html": [
       "<div>\n",
       "<style scoped>\n",
       "    .dataframe tbody tr th:only-of-type {\n",
       "        vertical-align: middle;\n",
       "    }\n",
       "\n",
       "    .dataframe tbody tr th {\n",
       "        vertical-align: top;\n",
       "    }\n",
       "\n",
       "    .dataframe thead th {\n",
       "        text-align: right;\n",
       "    }\n",
       "</style>\n",
       "<table border=\"1\" class=\"dataframe\">\n",
       "  <thead>\n",
       "    <tr style=\"text-align: right;\">\n",
       "      <th></th>\n",
       "      <th>RevolvingUtilizationOfUnsecuredLines</th>\n",
       "      <th>age</th>\n",
       "      <th>NumberOfTime30-59DaysPastDueNotWorse</th>\n",
       "      <th>DebtRatio</th>\n",
       "      <th>MonthlyIncome</th>\n",
       "      <th>NumberOfOpenCreditLinesAndLoans</th>\n",
       "      <th>NumberOfTimes90DaysLate</th>\n",
       "      <th>NumberRealEstateLoansOrLines</th>\n",
       "      <th>NumberOfTime60-89DaysPastDueNotWorse</th>\n",
       "      <th>NumberOfDependents</th>\n",
       "    </tr>\n",
       "  </thead>\n",
       "  <tbody>\n",
       "    <tr>\n",
       "      <td>99851</td>\n",
       "      <td>0.375708</td>\n",
       "      <td>53</td>\n",
       "      <td>0</td>\n",
       "      <td>0.636202</td>\n",
       "      <td>2242.0</td>\n",
       "      <td>7</td>\n",
       "      <td>0</td>\n",
       "      <td>2</td>\n",
       "      <td>0</td>\n",
       "      <td>0.0</td>\n",
       "    </tr>\n",
       "    <tr>\n",
       "      <td>19621</td>\n",
       "      <td>0.012795</td>\n",
       "      <td>65</td>\n",
       "      <td>0</td>\n",
       "      <td>0.324656</td>\n",
       "      <td>4801.0</td>\n",
       "      <td>14</td>\n",
       "      <td>0</td>\n",
       "      <td>1</td>\n",
       "      <td>0</td>\n",
       "      <td>0.0</td>\n",
       "    </tr>\n",
       "    <tr>\n",
       "      <td>126890</td>\n",
       "      <td>0.060030</td>\n",
       "      <td>58</td>\n",
       "      <td>0</td>\n",
       "      <td>0.325334</td>\n",
       "      <td>8000.0</td>\n",
       "      <td>12</td>\n",
       "      <td>0</td>\n",
       "      <td>2</td>\n",
       "      <td>0</td>\n",
       "      <td>1.0</td>\n",
       "    </tr>\n",
       "    <tr>\n",
       "      <td>86368</td>\n",
       "      <td>0.315912</td>\n",
       "      <td>44</td>\n",
       "      <td>0</td>\n",
       "      <td>0.148515</td>\n",
       "      <td>1817.0</td>\n",
       "      <td>5</td>\n",
       "      <td>0</td>\n",
       "      <td>0</td>\n",
       "      <td>0</td>\n",
       "      <td>1.0</td>\n",
       "    </tr>\n",
       "    <tr>\n",
       "      <td>145259</td>\n",
       "      <td>0.182295</td>\n",
       "      <td>49</td>\n",
       "      <td>0</td>\n",
       "      <td>0.401769</td>\n",
       "      <td>2600.0</td>\n",
       "      <td>14</td>\n",
       "      <td>0</td>\n",
       "      <td>2</td>\n",
       "      <td>0</td>\n",
       "      <td>1.0</td>\n",
       "    </tr>\n",
       "    <tr>\n",
       "      <td>...</td>\n",
       "      <td>...</td>\n",
       "      <td>...</td>\n",
       "      <td>...</td>\n",
       "      <td>...</td>\n",
       "      <td>...</td>\n",
       "      <td>...</td>\n",
       "      <td>...</td>\n",
       "      <td>...</td>\n",
       "      <td>...</td>\n",
       "      <td>...</td>\n",
       "    </tr>\n",
       "    <tr>\n",
       "      <td>75410</td>\n",
       "      <td>0.043703</td>\n",
       "      <td>71</td>\n",
       "      <td>0</td>\n",
       "      <td>0.155033</td>\n",
       "      <td>10500.0</td>\n",
       "      <td>12</td>\n",
       "      <td>0</td>\n",
       "      <td>2</td>\n",
       "      <td>0</td>\n",
       "      <td>0.0</td>\n",
       "    </tr>\n",
       "    <tr>\n",
       "      <td>83572</td>\n",
       "      <td>0.030538</td>\n",
       "      <td>73</td>\n",
       "      <td>0</td>\n",
       "      <td>0.086456</td>\n",
       "      <td>2694.0</td>\n",
       "      <td>16</td>\n",
       "      <td>0</td>\n",
       "      <td>1</td>\n",
       "      <td>0</td>\n",
       "      <td>0.0</td>\n",
       "    </tr>\n",
       "    <tr>\n",
       "      <td>49615</td>\n",
       "      <td>1.000000</td>\n",
       "      <td>46</td>\n",
       "      <td>0</td>\n",
       "      <td>0.523433</td>\n",
       "      <td>4800.0</td>\n",
       "      <td>2</td>\n",
       "      <td>0</td>\n",
       "      <td>1</td>\n",
       "      <td>0</td>\n",
       "      <td>2.0</td>\n",
       "    </tr>\n",
       "    <tr>\n",
       "      <td>41880</td>\n",
       "      <td>0.077993</td>\n",
       "      <td>55</td>\n",
       "      <td>0</td>\n",
       "      <td>0.314211</td>\n",
       "      <td>8000.0</td>\n",
       "      <td>6</td>\n",
       "      <td>0</td>\n",
       "      <td>2</td>\n",
       "      <td>0</td>\n",
       "      <td>2.0</td>\n",
       "    </tr>\n",
       "    <tr>\n",
       "      <td>56252</td>\n",
       "      <td>0.056239</td>\n",
       "      <td>50</td>\n",
       "      <td>0</td>\n",
       "      <td>0.015117</td>\n",
       "      <td>10980.0</td>\n",
       "      <td>6</td>\n",
       "      <td>0</td>\n",
       "      <td>0</td>\n",
       "      <td>0</td>\n",
       "      <td>4.0</td>\n",
       "    </tr>\n",
       "  </tbody>\n",
       "</table>\n",
       "<p>22279 rows × 10 columns</p>\n",
       "</div>"
      ],
      "text/plain": [
       "        RevolvingUtilizationOfUnsecuredLines  age  \\\n",
       "99851                               0.375708   53   \n",
       "19621                               0.012795   65   \n",
       "126890                              0.060030   58   \n",
       "86368                               0.315912   44   \n",
       "145259                              0.182295   49   \n",
       "...                                      ...  ...   \n",
       "75410                               0.043703   71   \n",
       "83572                               0.030538   73   \n",
       "49615                               1.000000   46   \n",
       "41880                               0.077993   55   \n",
       "56252                               0.056239   50   \n",
       "\n",
       "        NumberOfTime30-59DaysPastDueNotWorse  DebtRatio  MonthlyIncome  \\\n",
       "99851                                      0   0.636202         2242.0   \n",
       "19621                                      0   0.324656         4801.0   \n",
       "126890                                     0   0.325334         8000.0   \n",
       "86368                                      0   0.148515         1817.0   \n",
       "145259                                     0   0.401769         2600.0   \n",
       "...                                      ...        ...            ...   \n",
       "75410                                      0   0.155033        10500.0   \n",
       "83572                                      0   0.086456         2694.0   \n",
       "49615                                      0   0.523433         4800.0   \n",
       "41880                                      0   0.314211         8000.0   \n",
       "56252                                      0   0.015117        10980.0   \n",
       "\n",
       "        NumberOfOpenCreditLinesAndLoans  NumberOfTimes90DaysLate  \\\n",
       "99851                                 7                        0   \n",
       "19621                                14                        0   \n",
       "126890                               12                        0   \n",
       "86368                                 5                        0   \n",
       "145259                               14                        0   \n",
       "...                                 ...                      ...   \n",
       "75410                                12                        0   \n",
       "83572                                16                        0   \n",
       "49615                                 2                        0   \n",
       "41880                                 6                        0   \n",
       "56252                                 6                        0   \n",
       "\n",
       "        NumberRealEstateLoansOrLines  NumberOfTime60-89DaysPastDueNotWorse  \\\n",
       "99851                              2                                     0   \n",
       "19621                              1                                     0   \n",
       "126890                             2                                     0   \n",
       "86368                              0                                     0   \n",
       "145259                             2                                     0   \n",
       "...                              ...                                   ...   \n",
       "75410                              2                                     0   \n",
       "83572                              1                                     0   \n",
       "49615                              1                                     0   \n",
       "41880                              2                                     0   \n",
       "56252                              0                                     0   \n",
       "\n",
       "        NumberOfDependents  \n",
       "99851                  0.0  \n",
       "19621                  0.0  \n",
       "126890                 1.0  \n",
       "86368                  1.0  \n",
       "145259                 1.0  \n",
       "...                    ...  \n",
       "75410                  0.0  \n",
       "83572                  0.0  \n",
       "49615                  2.0  \n",
       "41880                  2.0  \n",
       "56252                  4.0  \n",
       "\n",
       "[22279 rows x 10 columns]"
      ]
     },
     "execution_count": 64,
     "metadata": {},
     "output_type": "execute_result"
    }
   ],
   "source": [
    "X_test"
   ]
  },
  {
   "cell_type": "code",
   "execution_count": 65,
   "metadata": {
    "scrolled": true
   },
   "outputs": [],
   "source": [
    "#运算需要一点时间\n",
    "test_score = X_test[features_to_keep].apply(total_score,axis = 1)"
   ]
  },
  {
   "cell_type": "code",
   "execution_count": 66,
   "metadata": {},
   "outputs": [],
   "source": [
    "test_score_df = pd.concat([y_test,test_score],axis = 1)\n",
    "test_score_df.columns = ['SeriousDlqin2yrs', 'Score']"
   ]
  },
  {
   "cell_type": "code",
   "execution_count": 67,
   "metadata": {},
   "outputs": [
    {
     "data": {
      "text/plain": [
       "<matplotlib.axes._subplots.AxesSubplot at 0x274b07dd308>"
      ]
     },
     "execution_count": 67,
     "metadata": {},
     "output_type": "execute_result"
    },
    {
     "data": {
      "image/png": "[encoded data removed]",
      "text/plain": [
       "<Figure size 432x288 with 1 Axes>"
      ]
     },
     "metadata": {
      "needs_background": "light"
     },
     "output_type": "display_data"
    }
   ],
   "source": [
    "test_score_df.groupby('Score')['SeriousDlqin2yrs'].mean().plot()"
   ]
  },
  {
   "cell_type": "markdown",
   "metadata": {},
   "source": [
    "分数越高，违约几率越小"
   ]
  },
  {
   "cell_type": "code",
   "execution_count": 68,
   "metadata": {},
   "outputs": [
    {
     "data": {
      "text/html": [
       "<div>\n",
       "<style scoped>\n",
       "    .dataframe tbody tr th:only-of-type {\n",
       "        vertical-align: middle;\n",
       "    }\n",
       "\n",
       "    .dataframe tbody tr th {\n",
       "        vertical-align: top;\n",
       "    }\n",
       "\n",
       "    .dataframe thead th {\n",
       "        text-align: right;\n",
       "    }\n",
       "</style>\n",
       "<table border=\"1\" class=\"dataframe\">\n",
       "  <thead>\n",
       "    <tr style=\"text-align: right;\">\n",
       "      <th></th>\n",
       "      <th>RevolvingUtilizationOfUnsecuredLines</th>\n",
       "      <th>age</th>\n",
       "      <th>NumberOfTime30-59DaysPastDueNotWorse</th>\n",
       "      <th>NumberOfTimes90DaysLate</th>\n",
       "      <th>NumberOfTime60-89DaysPastDueNotWorse</th>\n",
       "      <th>SeriousDlqin2yrs</th>\n",
       "      <th>Score</th>\n",
       "    </tr>\n",
       "  </thead>\n",
       "  <tbody>\n",
       "    <tr>\n",
       "      <td>99851</td>\n",
       "      <td>0.375708</td>\n",
       "      <td>53</td>\n",
       "      <td>0</td>\n",
       "      <td>0</td>\n",
       "      <td>0</td>\n",
       "      <td>1</td>\n",
       "      <td>617.0</td>\n",
       "    </tr>\n",
       "    <tr>\n",
       "      <td>19621</td>\n",
       "      <td>0.012795</td>\n",
       "      <td>65</td>\n",
       "      <td>0</td>\n",
       "      <td>0</td>\n",
       "      <td>0</td>\n",
       "      <td>1</td>\n",
       "      <td>652.0</td>\n",
       "    </tr>\n",
       "    <tr>\n",
       "      <td>126890</td>\n",
       "      <td>0.060030</td>\n",
       "      <td>58</td>\n",
       "      <td>0</td>\n",
       "      <td>0</td>\n",
       "      <td>0</td>\n",
       "      <td>1</td>\n",
       "      <td>639.0</td>\n",
       "    </tr>\n",
       "    <tr>\n",
       "      <td>86368</td>\n",
       "      <td>0.315912</td>\n",
       "      <td>44</td>\n",
       "      <td>0</td>\n",
       "      <td>0</td>\n",
       "      <td>0</td>\n",
       "      <td>1</td>\n",
       "      <td>617.0</td>\n",
       "    </tr>\n",
       "    <tr>\n",
       "      <td>145259</td>\n",
       "      <td>0.182295</td>\n",
       "      <td>49</td>\n",
       "      <td>0</td>\n",
       "      <td>0</td>\n",
       "      <td>0</td>\n",
       "      <td>1</td>\n",
       "      <td>626.0</td>\n",
       "    </tr>\n",
       "  </tbody>\n",
       "</table>\n",
       "</div>"
      ],
      "text/plain": [
       "        RevolvingUtilizationOfUnsecuredLines  age  \\\n",
       "99851                               0.375708   53   \n",
       "19621                               0.012795   65   \n",
       "126890                              0.060030   58   \n",
       "86368                               0.315912   44   \n",
       "145259                              0.182295   49   \n",
       "\n",
       "        NumberOfTime30-59DaysPastDueNotWorse  NumberOfTimes90DaysLate  \\\n",
       "99851                                      0                        0   \n",
       "19621                                      0                        0   \n",
       "126890                                     0                        0   \n",
       "86368                                      0                        0   \n",
       "145259                                     0                        0   \n",
       "\n",
       "        NumberOfTime60-89DaysPastDueNotWorse  SeriousDlqin2yrs  Score  \n",
       "99851                                      0                 1  617.0  \n",
       "19621                                      0                 1  652.0  \n",
       "126890                                     0                 1  639.0  \n",
       "86368                                      0                 1  617.0  \n",
       "145259                                     0                 1  626.0  "
      ]
     },
     "execution_count": 68,
     "metadata": {},
     "output_type": "execute_result"
    }
   ],
   "source": [
    "# 评分卡\n",
    "test_score_card = pd.concat([X_test[features_to_keep],test_score_df],axis = 1)\n",
    "test_score_card.head()"
   ]
  },
  {
   "cell_type": "markdown",
   "metadata": {},
   "source": [
    "## 4.4 评分卡稳定性 Scorecard Stability\n",
    "#### PSI (Population Stability Index)  \n",
    "+ PSI 用来衡量分数在开发样本和近期样本上的分布变化，反映了分数分布的稳定性。例如对于信用评分卡，如果模型在近期样本上分数分布偏高或者偏低，都会导致近期样本上的PSI变高。在计算PSI的时候，常常以开发样本上的分数分布作为基准(benchmark)。\n",
    "+ 公式： ![](https://www.zhihu.com/equation?tex=%5Cbegin%7Baligned%7D+PSI+%3D+%5Csum_%7Bi%3D1%7D%5En%28Actual_i%5C%25+-+Expected_i%5C%25%29%5Cln%28%5Cfrac%7BActual_i%5C%25+%7D%7BExpected_i%5C%25%7D%29+%5Cend%7Baligned%7D)\n",
    "+ 步骤：\n",
    "    1. 选定基准样本(Beachmark)作为预期分布(Excepted)，一般以训练样本作为Beachmark。\n",
    "    2. 对预期分布进行分箱，得到每箱样本占比（该箱样本数/总样本数）。一般按照等频方法（每箱的样本数相等）进行分箱，箱数一般设为10。\n",
    "    3. 按预期分布分箱阈值对实际分布(Actual)进行分箱，计算每箱样本占比。\n",
    "    4. 按公式 (实际占比-预期占比)/LN(实际占比/预期占比) 计算每箱的Index。\n",
    "    5. 累加每箱的Index得到最后的PSI。\n",
    "+ 评价：\n",
    "\n",
    "|PSI 值|分布变化情况|措施|\n",
    "|-|-|-|\n",
    "|< 0.1|分布变化轻微|无|\n",
    "|0.1 - 0.25|分布变化较小|监控模型的其他评价指标|\n",
    "|> 0.25|分布变化较大|进行特征分析，调整模型|"
   ]
  },
  {
   "cell_type": "code",
   "execution_count": 69,
   "metadata": {},
   "outputs": [],
   "source": [
    "#运算需要大量时间\n",
    "train_score = X_train[features_to_keep].apply(total_score,axis = 1)\n",
    "train_score_df = pd.concat([y_train,train_score],axis = 1)\n",
    "train_score_df.columns = ['SeriousDlqin2yrs', 'Score']"
   ]
  },
  {
   "cell_type": "code",
   "execution_count": 70,
   "metadata": {},
   "outputs": [],
   "source": [
    "def PSI(train_score_df_bins, test_score_df_bins):\n",
    "    train_boundary = [float('-inf')] + list(pd.qcut(train_score_df_bins['Score'],q=10,retbins=True)[1][1:-1]) + [float('inf')]\n",
    "    print('分箱边界：',train_boundary)\n",
    "    \n",
    "    train_score_df_bins['bins'] = pd.cut(train_score_df_bins['Score'], bins=train_boundary)\n",
    "    test_score_df_bins['bins'] = pd.cut(test_score_df_bins['Score'], bins=train_boundary)\n",
    "    \n",
    "    expected_pct = train_score_df_bins.groupby('bins')['Score'].count()/len(train_score_df_bins)\n",
    "    actual_pct = test_score_df_bins.groupby('bins')['Score'].count()/len(test_score_df_bins)\n",
    "    \n",
    "    PSI_df = pd.DataFrame({'Expected%':expected_pct,'Actual%':actual_pct})\n",
    "    PSI_df['Difference'] = PSI_df['Actual%']-PSI_df['Expected%']\n",
    "    PSI_df['Ln_ratio'] = np.log(PSI_df['Actual%']/PSI_df['Expected%'])\n",
    "    PSI_df['PSI Contribution'] = PSI_df['Difference']*PSI_df['Ln_ratio']\n",
    "    \n",
    "    return PSI_df, PSI_df['PSI Contribution'].sum()"
   ]
  },
  {
   "cell_type": "code",
   "execution_count": 71,
   "metadata": {},
   "outputs": [
    {
     "name": "stdout",
     "output_type": "stream",
     "text": [
      "分箱边界： [-inf, 578.0, 594.0, 604.0, 617.0, 624.0, 631.0, 637.0, 643.0, 650.0, inf]\n",
      "PSI =  0.00015442225840647236\n"
     ]
    }
   ],
   "source": [
    "PSI_df, PSI = PSI(train_score_df,test_score_df)\n",
    "print('PSI = ',PSI)"
   ]
  },
  {
   "cell_type": "markdown",
   "metadata": {},
   "source": [
    "使用OOT数据，PSI值远小于0.1，说明模型非常稳定"
   ]
  }
 ],
 "metadata": {
  "kernelspec": {
   "display_name": "Python 3",
   "language": "python",
   "name": "python3"
  },
  "language_info": {
   "codemirror_mode": {
    "name": "ipython",
    "version": 3
   },
   "file_extension": ".py",
   "mimetype": "text/x-python",
   "name": "python",
   "nbconvert_exporter": "python",
   "pygments_lexer": "ipython3",
   "version": "3.7.4"
  }
 },
 "nbformat": 4,
 "nbformat_minor": 2
}
