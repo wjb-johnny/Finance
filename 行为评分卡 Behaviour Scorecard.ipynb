{
 "cells": [
  {
   "cell_type": "markdown",
   "metadata": {},
   "source": [
    "# 行为评分卡 Behaviour Scorecard\n",
    "### 数据来源： Github， 已经过预处理\n",
    "### 内容：\n",
    "1. 构造特征（逾期记录、额度使用、还款）\n",
    "2. 卡方分箱， 计算WOE\n",
    "3. 单变量分析(IV)和多变量分析(VIF)\n",
    "4. 建模\n",
    "5. 评价模型\n",
    "6. 评分"
   ]
  },
  {
   "cell_type": "code",
   "execution_count": 1,
   "metadata": {},
   "outputs": [],
   "source": [
    "import pandas as pd\n",
    "import numpy as np\n",
    "import pickle\n",
    "from statsmodels.stats.outliers_influence import variance_inflation_factor\n",
    "import statsmodels.api as sm\n",
    "from sklearn import ensemble\n",
    "import matplotlib.pyplot as plt\n",
    "import seaborn as sns\n",
    "from sklearn.metrics import roc_auc_score\n",
    "from sklearn.metrics import roc_curve"
   ]
  },
  {
   "cell_type": "code",
   "execution_count": 2,
   "metadata": {},
   "outputs": [],
   "source": [
    "trainData = pd.read_csv('../Behaviour Scorecard/trainset_org.csv',header = 0,engine ='python')\n",
    "testData = pd.read_csv('../Behaviour Scorecard/testData.csv',header = 0,engine ='python')"
   ]
  },
  {
   "cell_type": "code",
   "execution_count": 3,
   "metadata": {
    "scrolled": true
   },
   "outputs": [
    {
     "data": {
      "text/html": [
       "<div>\n",
       "<style scoped>\n",
       "    .dataframe tbody tr th:only-of-type {\n",
       "        vertical-align: middle;\n",
       "    }\n",
       "\n",
       "    .dataframe tbody tr th {\n",
       "        vertical-align: top;\n",
       "    }\n",
       "\n",
       "    .dataframe thead th {\n",
       "        text-align: right;\n",
       "    }\n",
       "</style>\n",
       "<table border=\"1\" class=\"dataframe\">\n",
       "  <thead>\n",
       "    <tr style=\"text-align: right;\">\n",
       "      <th></th>\n",
       "      <th>CUST_ID</th>\n",
       "      <th>Loan_Amount</th>\n",
       "      <th>OS_0</th>\n",
       "      <th>OS_1</th>\n",
       "      <th>OS_2</th>\n",
       "      <th>OS_3</th>\n",
       "      <th>OS_4</th>\n",
       "      <th>OS_5</th>\n",
       "      <th>OS_6</th>\n",
       "      <th>OS_7</th>\n",
       "      <th>...</th>\n",
       "      <th>Delq3_4</th>\n",
       "      <th>Delq3_5</th>\n",
       "      <th>Delq3_6</th>\n",
       "      <th>Delq3_7</th>\n",
       "      <th>Delq3_8</th>\n",
       "      <th>Delq3_9</th>\n",
       "      <th>Delq3_10</th>\n",
       "      <th>Delq3_11</th>\n",
       "      <th>Delq3_12</th>\n",
       "      <th>label</th>\n",
       "    </tr>\n",
       "  </thead>\n",
       "  <tbody>\n",
       "    <tr>\n",
       "      <td>0</td>\n",
       "      <td>5f97c74f9eee425083c9535536c96f75</td>\n",
       "      <td>90000</td>\n",
       "      <td>25947.77</td>\n",
       "      <td>86565.62</td>\n",
       "      <td>112978.46</td>\n",
       "      <td>41926.58</td>\n",
       "      <td>81568.91</td>\n",
       "      <td>40556.02</td>\n",
       "      <td>40700.32</td>\n",
       "      <td>53312.53</td>\n",
       "      <td>...</td>\n",
       "      <td>0</td>\n",
       "      <td>0</td>\n",
       "      <td>0</td>\n",
       "      <td>0</td>\n",
       "      <td>0</td>\n",
       "      <td>0</td>\n",
       "      <td>0</td>\n",
       "      <td>0</td>\n",
       "      <td>0</td>\n",
       "      <td>0</td>\n",
       "    </tr>\n",
       "    <tr>\n",
       "      <td>1</td>\n",
       "      <td>892a7cdc80e348a8b4f38ac88cf78698</td>\n",
       "      <td>180000</td>\n",
       "      <td>99887.21</td>\n",
       "      <td>99887.21</td>\n",
       "      <td>17689.21</td>\n",
       "      <td>54578.30</td>\n",
       "      <td>108546.73</td>\n",
       "      <td>177679.61</td>\n",
       "      <td>122616.69</td>\n",
       "      <td>26987.69</td>\n",
       "      <td>...</td>\n",
       "      <td>0</td>\n",
       "      <td>0</td>\n",
       "      <td>0</td>\n",
       "      <td>0</td>\n",
       "      <td>0</td>\n",
       "      <td>0</td>\n",
       "      <td>0</td>\n",
       "      <td>0</td>\n",
       "      <td>0</td>\n",
       "      <td>0</td>\n",
       "    </tr>\n",
       "    <tr>\n",
       "      <td>2</td>\n",
       "      <td>aa3f22edc65c441c8848bf9b552ef7af</td>\n",
       "      <td>150000</td>\n",
       "      <td>74086.91</td>\n",
       "      <td>148254.81</td>\n",
       "      <td>8696.58</td>\n",
       "      <td>67064.81</td>\n",
       "      <td>61453.20</td>\n",
       "      <td>36049.51</td>\n",
       "      <td>64204.80</td>\n",
       "      <td>14712.80</td>\n",
       "      <td>...</td>\n",
       "      <td>0</td>\n",
       "      <td>0</td>\n",
       "      <td>0</td>\n",
       "      <td>0</td>\n",
       "      <td>0</td>\n",
       "      <td>0</td>\n",
       "      <td>0</td>\n",
       "      <td>0</td>\n",
       "      <td>0</td>\n",
       "      <td>0</td>\n",
       "    </tr>\n",
       "    <tr>\n",
       "      <td>3</td>\n",
       "      <td>13be7b52263845bd8ebc699533330e6f</td>\n",
       "      <td>60000</td>\n",
       "      <td>19569.47</td>\n",
       "      <td>43546.68</td>\n",
       "      <td>82987.16</td>\n",
       "      <td>91802.29</td>\n",
       "      <td>31247.55</td>\n",
       "      <td>28472.87</td>\n",
       "      <td>26393.94</td>\n",
       "      <td>15894.49</td>\n",
       "      <td>...</td>\n",
       "      <td>0</td>\n",
       "      <td>0</td>\n",
       "      <td>0</td>\n",
       "      <td>0</td>\n",
       "      <td>0</td>\n",
       "      <td>0</td>\n",
       "      <td>0</td>\n",
       "      <td>0</td>\n",
       "      <td>0</td>\n",
       "      <td>0</td>\n",
       "    </tr>\n",
       "    <tr>\n",
       "      <td>4</td>\n",
       "      <td>8820e38b407446c696e5e28315cf3014</td>\n",
       "      <td>100000</td>\n",
       "      <td>50058.11</td>\n",
       "      <td>97288.48</td>\n",
       "      <td>137752.33</td>\n",
       "      <td>184847.10</td>\n",
       "      <td>8141.10</td>\n",
       "      <td>24649.20</td>\n",
       "      <td>65290.07</td>\n",
       "      <td>31820.01</td>\n",
       "      <td>...</td>\n",
       "      <td>0</td>\n",
       "      <td>0</td>\n",
       "      <td>0</td>\n",
       "      <td>0</td>\n",
       "      <td>0</td>\n",
       "      <td>0</td>\n",
       "      <td>0</td>\n",
       "      <td>0</td>\n",
       "      <td>0</td>\n",
       "      <td>0</td>\n",
       "    </tr>\n",
       "  </tbody>\n",
       "</table>\n",
       "<p>5 rows × 76 columns</p>\n",
       "</div>"
      ],
      "text/plain": [
       "                            CUST_ID  Loan_Amount      OS_0       OS_1  \\\n",
       "0  5f97c74f9eee425083c9535536c96f75        90000  25947.77   86565.62   \n",
       "1  892a7cdc80e348a8b4f38ac88cf78698       180000  99887.21   99887.21   \n",
       "2  aa3f22edc65c441c8848bf9b552ef7af       150000  74086.91  148254.81   \n",
       "3  13be7b52263845bd8ebc699533330e6f        60000  19569.47   43546.68   \n",
       "4  8820e38b407446c696e5e28315cf3014       100000  50058.11   97288.48   \n",
       "\n",
       "        OS_2       OS_3       OS_4       OS_5       OS_6      OS_7  ...  \\\n",
       "0  112978.46   41926.58   81568.91   40556.02   40700.32  53312.53  ...   \n",
       "1   17689.21   54578.30  108546.73  177679.61  122616.69  26987.69  ...   \n",
       "2    8696.58   67064.81   61453.20   36049.51   64204.80  14712.80  ...   \n",
       "3   82987.16   91802.29   31247.55   28472.87   26393.94  15894.49  ...   \n",
       "4  137752.33  184847.10    8141.10   24649.20   65290.07  31820.01  ...   \n",
       "\n",
       "   Delq3_4  Delq3_5  Delq3_6  Delq3_7  Delq3_8  Delq3_9  Delq3_10  Delq3_11  \\\n",
       "0        0        0        0        0        0        0         0         0   \n",
       "1        0        0        0        0        0        0         0         0   \n",
       "2        0        0        0        0        0        0         0         0   \n",
       "3        0        0        0        0        0        0         0         0   \n",
       "4        0        0        0        0        0        0         0         0   \n",
       "\n",
       "   Delq3_12  label  \n",
       "0         0      0  \n",
       "1         0      0  \n",
       "2         0      0  \n",
       "3         0      0  \n",
       "4         0      0  \n",
       "\n",
       "[5 rows x 76 columns]"
      ]
     },
     "execution_count": 3,
     "metadata": {},
     "output_type": "execute_result"
    }
   ],
   "source": [
    "trainData.head()"
   ]
  },
  {
   "cell_type": "markdown",
   "metadata": {},
   "source": [
    "+ Loan_Amount:总额度\n",
    "+ OS：未还金额\n",
    "+ Payment：还款金额\n",
    "+ Spend：使用金额\n",
    "+ Delq：逾期情况（分成3类违约情况(1最轻，3最重)，每类情况下1代表违约）"
   ]
  },
  {
   "cell_type": "markdown",
   "metadata": {},
   "source": [
    "# 1. 构造特征"
   ]
  },
  {
   "cell_type": "code",
   "execution_count": 4,
   "metadata": {},
   "outputs": [],
   "source": [
    "allFeatures = []"
   ]
  },
  {
   "cell_type": "markdown",
   "metadata": {},
   "source": [
    "## 1.1 逾期类型\n",
    "逾期类型的特征在行为评分卡（预测违约行为）中，一般是非常显著的变量。  \n",
    "通过设定时间窗口，可以衍生以下类型的逾期变量："
   ]
  },
  {
   "cell_type": "code",
   "execution_count": 5,
   "metadata": {},
   "outputs": [],
   "source": [
    "#衍生逾期类型的特征的函数\n",
    "def DelqFeatures(event,window,type):\n",
    "    '''\n",
    "    :parms event 数据框\n",
    "    :parms windows 时间窗口\n",
    "    :parms type 响应事件类型\n",
    "    '''\n",
    "    current = 12\n",
    "    start = 12 - window + 1\n",
    "    #delq1、delq2、delq3为了获取window相对应的dataframe范围\n",
    "    delq1 = [event[a] for a in ['Delq1_' + str(t) for t in range(current, start - 1, -1)]]\n",
    "    delq2 = [event[a] for a in ['Delq2_' + str(t) for t in range(current, start - 1, -1)]]\n",
    "    delq3 = [event[a] for a in ['Delq3_' + str(t) for t in range(current, start - 1, -1)]]\n",
    "    if type == 'max delq':\n",
    "        if max(delq3) == 1:\n",
    "            return 3\n",
    "        elif max(delq2) == 1:\n",
    "            return 2\n",
    "        elif max(delq1) == 1:\n",
    "            return 1\n",
    "        else:\n",
    "            return 0\n",
    "    if type in ['M0 times','M1 times', 'M2 times']:\n",
    "        if type.find('M0')>-1:\n",
    "            return sum(delq1)\n",
    "        elif type.find('M1')>-1:\n",
    "            return sum(delq2)\n",
    "        else:\n",
    "            return sum(delq3)"
   ]
  },
  {
   "cell_type": "code",
   "execution_count": 6,
   "metadata": {},
   "outputs": [],
   "source": [
    "# 考虑过去1个月，3个月，6个月，12个月\n",
    "for t in [1,3,6,12]:\n",
    "    # 过去t时间窗口内的最大逾期状态\n",
    "    allFeatures.append('maxDelqL'+str(t)+\"M\")\n",
    "    trainData['maxDelqL'+str(t)+\"M\"] = trainData.apply(lambda x: DelqFeatures(x,t,'max delq'),axis=1)\n",
    " \n",
    "    # 过去t时间窗口内的，M0,M1,M2的次数\n",
    "    allFeatures.append('M0FreqL' + str(t) + \"M\")\n",
    "    trainData['M0FreqL' + str(t) + \"M\"] = trainData.apply(lambda x: DelqFeatures(x,t,'M0 times'),axis=1)\n",
    " \n",
    "    allFeatures.append('M1FreqL' + str(t) + \"M\")\n",
    "    trainData['M1FreqL' + str(t) + \"M\"] = trainData.apply(lambda x: DelqFeatures(x, t, 'M1 times'), axis=1)\n",
    " \n",
    "    allFeatures.append('M2FreqL' + str(t) + \"M\")\n",
    "    trainData['M2FreqL' + str(t) + \"M\"] = trainData.apply(lambda x: DelqFeatures(x, t, 'M2 times'), axis=1)\n",
    " "
   ]
  },
  {
   "cell_type": "markdown",
   "metadata": {},
   "source": [
    "## 1.2 额度使用率\n",
    "额度使用率类型特征在行为评分卡模型中，通常是与违约高度相关的"
   ]
  },
  {
   "cell_type": "code",
   "execution_count": 7,
   "metadata": {},
   "outputs": [],
   "source": [
    "#衍生额度使用率类型特征的函数\n",
    "def UrateFeatures(event, window, type):\n",
    "    '''\n",
    "    :parms event 数据框\n",
    "    :parms windows 时间窗口\n",
    "    :parms type 响应事件类型\n",
    "    '''\n",
    "    current = 12\n",
    "    start = 12 - window + 1\n",
    "    #获取在数据框内有效区域\n",
    "    monthlySpend = [event[a] for a in ['Spend_' + str(t) for t in range(current, start - 1, -1)]]\n",
    "    #获取授信总额度\n",
    "    limit = event['Loan_Amount']\n",
    "    #月使用率\n",
    "    monthlyUrate = [x / limit for x in monthlySpend]\n",
    "    if type == 'mean utilization rate':\n",
    "        return np.mean(monthlyUrate)\n",
    "    if type == 'max utilization rate':\n",
    "        return max(monthlyUrate)\n",
    "    #月额度使用率增加的月份\n",
    "    if type == 'increase utilization rate':\n",
    "        #val[0:-1]表示第一个元素到倒数第二个元素的切片\n",
    "        currentUrate = monthlyUrate[0:-1]\n",
    "        #val[1:]表示第二个元素到最后一个元素的切片\n",
    "        previousUrate = monthlyUrate[1:]\n",
    "        compareUrate = [int(x[0]>x[1]) for x in zip(currentUrate,previousUrate)]\n",
    "        return sum(compareUrate)"
   ]
  },
  {
   "cell_type": "code",
   "execution_count": 8,
   "metadata": {},
   "outputs": [],
   "source": [
    "# 考虑过去1个月，3个月，6个月，12个月\n",
    "for t in [1,3,6,12]:\n",
    "    # 过去t时间窗口内的最大月额度使用率\n",
    "    allFeatures.append('maxUrateL' + str(t) + \"M\")\n",
    "    trainData['maxUrateL' + str(t) + \"M\"] = trainData.apply(lambda x: UrateFeatures(x,t,'max utilization rate'),axis = 1)\n",
    " \n",
    "    # 过去t时间窗口内的平均月额度使用率\n",
    "    allFeatures.append('avgUrateL' + str(t) + \"M\")\n",
    "    trainData['avgUrateL' + str(t) + \"M\"] = trainData.apply(lambda x: UrateFeatures(x, t, 'mean utilization rate'),axis=1)\n",
    " \n",
    "    # 过去t时间窗口内，月额度使用率增加的月份数量。该变量要求t>1\n",
    "    if t > 1:\n",
    "        allFeatures.append('increaseUrateL' + str(t) + \"M\")\n",
    "        trainData['increaseUrateL' + str(t) + \"M\"] = trainData.apply(lambda x: UrateFeatures(x, t, 'increase utilization rate'),axis=1)"
   ]
  },
  {
   "cell_type": "markdown",
   "metadata": {},
   "source": [
    "## 1.3 还款\n",
    "还款类型特征也是行为评分卡模型中常用的特征"
   ]
  },
  {
   "cell_type": "code",
   "execution_count": 9,
   "metadata": {},
   "outputs": [],
   "source": [
    "#衍生还款类型特征的函数\n",
    "def PaymentFeatures(event, window, type):\n",
    "    current = 12\n",
    "    start = 12 - window + 1\n",
    "    #月还款金额\n",
    "    currentPayment = [event[a] for a in ['Payment_' + str(t) for t in range(current, start - 1, -1)]]\n",
    "    #上月使用金额，错位一下\n",
    "    previousOS = [event[a] for a in ['OS_' + str(t) for t in range(current-1, start - 2, -1)]]\n",
    "    monthlyPayRatio = []\n",
    "    for Pay_OS in zip(currentPayment,previousOS):\n",
    "        #前一个月使用了才会产生还款\n",
    "        if Pay_OS[1]>0:\n",
    "            payRatio = Pay_OS[0]*1.0 / Pay_OS[1]\n",
    "            monthlyPayRatio.append(payRatio)\n",
    "        #前一个月没使用，就按照100%还款\n",
    "        else:\n",
    "            monthlyPayRatio.append(1)\n",
    "    if type == 'min payment ratio':\n",
    "        return min(monthlyPayRatio)\n",
    "    if type == 'max payment ratio':\n",
    "        return max(monthlyPayRatio)\n",
    "    if type == 'mean payment ratio':\n",
    "        total_payment = sum(currentPayment)\n",
    "        total_OS = sum(previousOS)\n",
    "        if total_OS > 0:\n",
    "            return total_payment / total_OS\n",
    "        else:\n",
    "            return 1"
   ]
  },
  {
   "cell_type": "code",
   "execution_count": 10,
   "metadata": {},
   "outputs": [],
   "source": [
    "# 考虑过去1个月，3个月，6个月，12个月\n",
    "for t in [1,3,6,12]:\n",
    "    # 过去t时间窗口内的最大月还款率\n",
    "    allFeatures.append('maxPayL' + str(t) + \"M\")\n",
    "    trainData['maxPayL' + str(t) + \"M\"] = trainData.apply(lambda x: PaymentFeatures(x, t, 'max payment ratio'),axis=1)\n",
    "    # 过去t时间窗口内的最小月还款率\n",
    "    allFeatures.append('minPayL' + str(t) + \"M\")\n",
    "    trainData['minPayL' + str(t) + \"M\"] = trainData.apply(lambda x: PaymentFeatures(x, t, 'min payment ratio'),axis=1)\n",
    "    # 过去t时间窗口内的平均月还款率\n",
    "    allFeatures.append('avgPayL' + str(t) + \"M\")\n",
    "    trainData['avgPayL' + str(t) + \"M\"] = trainData.apply(lambda x: PaymentFeatures(x, t, 'mean payment ratio'),axis=1)"
   ]
  },
  {
   "cell_type": "markdown",
   "metadata": {},
   "source": [
    "# 2. 分箱，计算WOE并编码"
   ]
  },
  {
   "cell_type": "code",
   "execution_count": 11,
   "metadata": {},
   "outputs": [],
   "source": [
    "categoricalFeatures = []\n",
    "numericalFeatures = []\n",
    "WOE_IV_dict = {}\n",
    "for var in allFeatures:\n",
    "    if len(set(trainData[var])) > 5:\n",
    "        numericalFeatures.append(var)\n",
    "    else:\n",
    "        categoricalFeatures.append(var)"
   ]
  },
  {
   "cell_type": "markdown",
   "metadata": {},
   "source": [
    "## 2.1 检查bad rate在分类特征中的单调性"
   ]
  },
  {
   "cell_type": "code",
   "execution_count": 12,
   "metadata": {},
   "outputs": [],
   "source": [
    "#计算变量分箱之后各分箱的坏样本率\n",
    "def BinBadRate(df, col, target, grantRateIndicator=0):\n",
    "    '''\n",
    "    :param df: 需要计算好坏比率的数据集\n",
    "    :param col: 需要计算好坏比率的特征\n",
    "    :param target: 好坏标签\n",
    "    :param grantRateIndicator: 1返回总体的坏样本率，0不返回\n",
    "    :return: 每箱的坏样本率，以及总体的坏样本率（当grantRateIndicator＝＝1时）\n",
    "    '''\n",
    "    #print(df.groupby([col])[target])\n",
    "    total = df.groupby([col])[target].count()\n",
    "    #print(total)\n",
    "    total = pd.DataFrame({'total': total})\n",
    "    #print(total)\n",
    "    bad = df.groupby([col])[target].sum()\n",
    "    bad = pd.DataFrame({'bad': bad})\n",
    "    #合并\n",
    "    regroup = total.merge(bad, left_index=True, right_index=True, how='left')\n",
    "    #print(regroup)\n",
    "    regroup.reset_index(level=0, inplace=True)\n",
    "    #print(regroup)\n",
    "    #计算坏样本率\n",
    "    regroup['bad_rate'] = regroup.apply(lambda x: x.bad * 1.0 / x.total, axis=1)\n",
    "    #print(regroup)\n",
    "    #生成字典，（变量名取值：坏样本率）\n",
    "    dicts = dict(zip(regroup[col],regroup['bad_rate']))\n",
    "    if grantRateIndicator==0:\n",
    "        return (dicts, regroup)\n",
    "    N = sum(regroup['total'])\n",
    "    B = sum(regroup['bad'])\n",
    "    #总体样本率\n",
    "    overallRate = B * 1.0 / N\n",
    "    return (dicts, regroup, overallRate)"
   ]
  },
  {
   "cell_type": "code",
   "execution_count": 13,
   "metadata": {},
   "outputs": [],
   "source": [
    "## 判断某变量的坏样本率是否单调\n",
    "def BadRateMonotone(df, sortByVar, target,special_attribute = []):\n",
    "    '''\n",
    "    :param df: 包含检验坏样本率的变量，和目标变量\n",
    "    :param sortByVar: 需要检验坏样本率的变量\n",
    "    :param target: 目标变量，0、1表示好、坏\n",
    "    :param special_attribute: 不参与检验的特殊值\n",
    "    :return: 坏样本率单调与否(True代表单调， False代表不单调)\n",
    "    '''\n",
    "    df2 = df.loc[~df[sortByVar].isin(special_attribute)]\n",
    "    if len(set(df2[sortByVar])) <= 2:\n",
    "        return True\n",
    "    regroup = BinBadRate(df2, sortByVar, target)[1]\n",
    "    combined = zip(regroup['total'],regroup['bad'])\n",
    "    badRate = [x[1]*1.0/x[0] for x in combined]\n",
    "    badRateNotMonotone = [badRate[i]<badRate[i+1] and badRate[i] < badRate[i-1] or badRate[i]>badRate[i+1] and badRate[i] > badRate[i-1]\n",
    "                          for i in range(1,len(badRate)-1)]\n",
    "    if True in badRateNotMonotone:\n",
    "        return False\n",
    "    else:\n",
    "        return True"
   ]
  },
  {
   "cell_type": "code",
   "execution_count": 14,
   "metadata": {},
   "outputs": [],
   "source": [
    "not_monotone =[]\n",
    "for var in categoricalFeatures:\n",
    "    if not BadRateMonotone(trainData, var, 'label'):\n",
    "        not_monotone.append(var)"
   ]
  },
  {
   "cell_type": "code",
   "execution_count": 15,
   "metadata": {},
   "outputs": [
    {
     "name": "stdout",
     "output_type": "stream",
     "text": [
      "数值取值小于5类别型变量['M1FreqL3M', 'M2FreqL3M', 'maxDelqL12M']坏样本率不单调\n"
     ]
    }
   ],
   "source": [
    "print(\"数值取值小于5类别型变量{}坏样本率不单调\".format(not_monotone))"
   ]
  },
  {
   "cell_type": "markdown",
   "metadata": {},
   "source": [
    "`M1FreqL3M`，`M2FreqL3M`, `maxDelqL12M'` 是不单调的，需要合并其中某些类别"
   ]
  },
  {
   "cell_type": "markdown",
   "metadata": {},
   "source": [
    "### M2FreqL3M"
   ]
  },
  {
   "cell_type": "code",
   "execution_count": 16,
   "metadata": {},
   "outputs": [
    {
     "data": {
      "text/plain": [
       "M2FreqL3M\n",
       "0    0.120702\n",
       "1    0.958974\n",
       "2    0.963636\n",
       "3    0.666667\n",
       "Name: label, dtype: float64"
      ]
     },
     "execution_count": 16,
     "metadata": {},
     "output_type": "execute_result"
    }
   ],
   "source": [
    "trainData.groupby(['M2FreqL3M'])['label'].mean()  #检查单调性"
   ]
  },
  {
   "cell_type": "code",
   "execution_count": 17,
   "metadata": {},
   "outputs": [
    {
     "data": {
      "text/plain": [
       "M2FreqL3M\n",
       "0    27456\n",
       "1      585\n",
       "2       55\n",
       "3        3\n",
       "Name: label, dtype: int64"
      ]
     },
     "execution_count": 17,
     "metadata": {},
     "output_type": "execute_result"
    }
   ],
   "source": [
    "trainData.groupby(['M2FreqL3M'])['label'].count() "
   ]
  },
  {
   "cell_type": "markdown",
   "metadata": {},
   "source": [
    "其中，M2FreqL3M＝3总共只有3个样本，因此要进行合并  \n",
    "将`M2FreqL3M` >=1的合并为一组，并计算WOE值"
   ]
  },
  {
   "cell_type": "code",
   "execution_count": 18,
   "metadata": {},
   "outputs": [],
   "source": [
    "#计算WOE值\n",
    "def CalcWOE(df, col, target):\n",
    "    '''\n",
    "    :param df: 包含需要计算WOE的变量和目标变量\n",
    "    :param col: 需要计算WOE、IV的变量，必须是分箱后的变量，或者不需要分箱的类别型变量\n",
    "    :param target: 目标变量，0、1表示好、坏\n",
    "    :return: 返回WOE和IV\n",
    "    '''\n",
    "    total = df.groupby([col])[target].count()\n",
    "    total = pd.DataFrame({'total': total})\n",
    "    bad = df.groupby([col])[target].sum()\n",
    "    bad = pd.DataFrame({'bad': bad})\n",
    "    regroup = total.merge(bad, left_index=True, right_index=True, how='left')\n",
    "    regroup.reset_index(level=0, inplace=True)\n",
    "    N = sum(regroup['total'])\n",
    "    B = sum(regroup['bad'])\n",
    "    regroup['good'] = regroup['total'] - regroup['bad']\n",
    "    G = N - B\n",
    "    regroup['bad_pcnt'] = regroup['bad'].map(lambda x: x*1.0/B)\n",
    "    regroup['good_pcnt'] = regroup['good'].map(lambda x: x * 1.0 / G)\n",
    "    regroup['WOE'] = regroup.apply(lambda x: np.log(x.good_pcnt*1.0/x.bad_pcnt),axis = 1)\n",
    "    WOE_dict = regroup[[col,'WOE']].set_index(col).to_dict(orient='index')\n",
    "    for k, v in WOE_dict.items():\n",
    "        WOE_dict[k] = v['WOE']\n",
    "    IV = regroup.apply(lambda x: (x.good_pcnt-x.bad_pcnt)*np.log(x.good_pcnt*1.0/x.bad_pcnt),axis = 1)\n",
    "    IV = sum(IV)\n",
    "    return {\"WOE\": WOE_dict, 'IV':IV}"
   ]
  },
  {
   "cell_type": "code",
   "execution_count": 19,
   "metadata": {},
   "outputs": [
    {
     "data": {
      "text/plain": [
       "M2FreqL3M_Bin\n",
       "0    0.120702\n",
       "1    0.958009\n",
       "Name: label, dtype: float64"
      ]
     },
     "execution_count": 19,
     "metadata": {},
     "output_type": "execute_result"
    }
   ],
   "source": [
    "# 将M2FreqL3M>=1的合并为一组\n",
    "trainData['M2FreqL3M_Bin'] = trainData['M2FreqL3M'].apply(lambda x: int(x>=1))\n",
    "trainData.groupby(['M2FreqL3M_Bin'])['label'].mean()"
   ]
  },
  {
   "cell_type": "code",
   "execution_count": 20,
   "metadata": {},
   "outputs": [],
   "source": [
    "#计算将M2FreqL3M的WOE值\n",
    "WOE_IV_dict['M2FreqL3M_Bin'] = CalcWOE(trainData, 'M2FreqL3M_Bin', 'label')"
   ]
  },
  {
   "cell_type": "code",
   "execution_count": 21,
   "metadata": {
    "scrolled": true
   },
   "outputs": [
    {
     "data": {
      "text/plain": [
       "{'M2FreqL3M_Bin': {'WOE': {0: 0.16936574889989445, 1: -4.943841491903861},\n",
       "  'IV': 0.7957473203620947}}"
      ]
     },
     "execution_count": 21,
     "metadata": {},
     "output_type": "execute_result"
    }
   ],
   "source": [
    "WOE_IV_dict"
   ]
  },
  {
   "cell_type": "markdown",
   "metadata": {},
   "source": [
    "### M1FreqL3M"
   ]
  },
  {
   "cell_type": "code",
   "execution_count": 22,
   "metadata": {},
   "outputs": [
    {
     "data": {
      "text/plain": [
       "M1FreqL3M\n",
       "0    0.049511\n",
       "1    0.409583\n",
       "2    0.930825\n",
       "3    0.927083\n",
       "Name: label, dtype: float64"
      ]
     },
     "execution_count": 22,
     "metadata": {},
     "output_type": "execute_result"
    }
   ],
   "source": [
    "trainData.groupby(['M1FreqL3M'])['label'].mean()  #检查单调性"
   ]
  },
  {
   "cell_type": "code",
   "execution_count": 23,
   "metadata": {},
   "outputs": [
    {
     "data": {
      "text/plain": [
       "M1FreqL3M\n",
       "0    22379\n",
       "1     4800\n",
       "2      824\n",
       "3       96\n",
       "Name: label, dtype: int64"
      ]
     },
     "execution_count": 23,
     "metadata": {},
     "output_type": "execute_result"
    }
   ],
   "source": [
    "trainData.groupby(['M1FreqL3M'])['label'].count()"
   ]
  },
  {
   "cell_type": "markdown",
   "metadata": {},
   "source": [
    "除了`M1FreqL3M`＝3外， 其他组别的bad rate单调。\n",
    "此外，`M1FreqL3M`＝0占比很大，因此将`M1FreqL3M`>=1的分为一组"
   ]
  },
  {
   "cell_type": "code",
   "execution_count": 24,
   "metadata": {},
   "outputs": [
    {
     "data": {
      "text/plain": [
       "M1FreqL3M_Bin\n",
       "0    0.049511\n",
       "1    0.493357\n",
       "Name: label, dtype: float64"
      ]
     },
     "execution_count": 24,
     "metadata": {},
     "output_type": "execute_result"
    }
   ],
   "source": [
    "trainData['M1FreqL3M_Bin'] = trainData['M1FreqL3M'].apply(lambda x: int(x>=1))\n",
    "trainData.groupby(['M1FreqL3M_Bin'])['label'].mean()"
   ]
  },
  {
   "cell_type": "code",
   "execution_count": 25,
   "metadata": {},
   "outputs": [],
   "source": [
    "WOE_IV_dict['M1FreqL3M_Bin'] = CalcWOE(trainData, 'M1FreqL3M_Bin', 'label')"
   ]
  },
  {
   "cell_type": "markdown",
   "metadata": {},
   "source": [
    "对其他单调的类别型变量，检查是否有一箱的占比低于5%。 如果有，将该变量进行合并"
   ]
  },
  {
   "cell_type": "code",
   "execution_count": 26,
   "metadata": {},
   "outputs": [],
   "source": [
    "small_bin_var = []\n",
    "large_bin_var = []\n",
    "N = trainData.shape[0]\n",
    "for var in categoricalFeatures:\n",
    "    if var not in not_monotone:\n",
    "        total = trainData.groupby([var])[var].count()\n",
    "        pcnt = total * 1.0 / N\n",
    "        if min(pcnt)<0.05:\n",
    "            small_bin_var.append({var:pcnt.to_dict()})\n",
    "        else:\n",
    "            large_bin_var.append(var)"
   ]
  },
  {
   "cell_type": "code",
   "execution_count": 27,
   "metadata": {},
   "outputs": [
    {
     "data": {
      "text/plain": [
       "[{'maxDelqL1M': {0: 0.6037937293142105,\n",
       "   1: 0.31880138083205806,\n",
       "   2: 0.0691839567244386,\n",
       "   3: 0.008220933129292857}},\n",
       " {'M2FreqL1M': {0: 0.9917790668707072, 1: 0.008220933129292857}},\n",
       " {'maxDelqL3M': {0: 0.22637816292394747,\n",
       "   1: 0.5700558738745151,\n",
       "   2: 0.18068258656891703,\n",
       "   3: 0.022883376632620377}},\n",
       " {'maxDelqL6M': {0: 0.05722623580910353,\n",
       "   1: 0.5848962596533684,\n",
       "   2: 0.3128581088294957,\n",
       "   3: 0.04501939570803232}},\n",
       " {'M2FreqL6M': {0: 0.9549806042919677,\n",
       "   1: 0.04003701199330937,\n",
       "   2: 0.004590910708566141,\n",
       "   3: 0.00032029609594647497,\n",
       "   4: 7.117691021032777e-05}},\n",
       " {'M2FreqL12M': {0: 0.9233424677034769,\n",
       "   1: 0.0665148225915513,\n",
       "   2: 0.009217409872237447,\n",
       "   3: 0.0008185344674187694,\n",
       "   4: 0.00010676536531549166}}]"
      ]
     },
     "execution_count": 27,
     "metadata": {},
     "output_type": "execute_result"
    }
   ],
   "source": [
    "small_bin_var"
   ]
  },
  {
   "cell_type": "markdown",
   "metadata": {},
   "source": [
    "对于`M2FreqL1M`、`M2FreqL6M`和`M2FreqL12M`，由于有部分箱占了很大比例,没有区分度，故删除"
   ]
  },
  {
   "cell_type": "code",
   "execution_count": 28,
   "metadata": {},
   "outputs": [],
   "source": [
    "allFeatures.remove('M2FreqL1M')\n",
    "allFeatures.remove('M2FreqL6M')\n",
    "allFeatures.remove('M2FreqL12M')"
   ]
  },
  {
   "cell_type": "code",
   "execution_count": 29,
   "metadata": {},
   "outputs": [],
   "source": [
    "# 根据条件合并分箱\n",
    "def MergeByCondition(x,condition_list):\n",
    "    #condition_list是条件列表。满足第几个condition，就输出几\n",
    "    s = 0\n",
    "    for condition in condition_list:\n",
    "        if eval(str(x)+condition):\n",
    "            return s\n",
    "        else:\n",
    "            s+=1\n",
    "    return s"
   ]
  },
  {
   "cell_type": "code",
   "execution_count": 30,
   "metadata": {},
   "outputs": [],
   "source": [
    "#对于small_bin_var中的其他变量，将最小的箱和相邻的箱进行合并并计算WOE\n",
    "trainData['maxDelqL1M_Bin'] = trainData['maxDelqL1M'].apply(lambda x: MergeByCondition(x,['==0','==1','>=2']))\n",
    "trainData['maxDelqL3M_Bin'] = trainData['maxDelqL3M'].apply(lambda x: MergeByCondition(x,['==0','==1','>=2']))\n",
    "trainData['maxDelqL6M_Bin'] = trainData['maxDelqL6M'].apply(lambda x: MergeByCondition(x,['==0','==1','>=2']))"
   ]
  },
  {
   "cell_type": "code",
   "execution_count": 31,
   "metadata": {},
   "outputs": [],
   "source": [
    "for var in ['maxDelqL1M_Bin','maxDelqL3M_Bin','maxDelqL6M_Bin']:\n",
    "    WOE_IV_dict[var] = CalcWOE(trainData, var, 'label')"
   ]
  },
  {
   "cell_type": "markdown",
   "metadata": {},
   "source": [
    "对于不需要合并、原始箱的bad rate单调的特征，直接计算WOE和IV"
   ]
  },
  {
   "cell_type": "code",
   "execution_count": 32,
   "metadata": {},
   "outputs": [],
   "source": [
    "for var in large_bin_var:\n",
    "    WOE_IV_dict[var] = CalcWOE(trainData, var, 'label')"
   ]
  },
  {
   "cell_type": "markdown",
   "metadata": {},
   "source": [
    "## 2.2 卡方分箱\n",
    "\n",
    "#### 步骤：\n",
    "1. 初始化阶段：首先按照属性值的大小进行排序（对于非连续特征，需要先做数值转换，比如转为坏人率，然后排序），然后每个属性值单独作为一组。\n",
    "2. 合并阶段：\n",
    "    1. 对每一对相邻的组，计算卡方值。\n",
    "    2. 根据计算的卡方值，对其中最小的一对邻组合并为一组。\n",
    "    3. 不断重复A,B直到计算出的卡方值都不低于事先设定的阈值，或者分组数达到一定的条件（如最小分组数5，最大分组数8）。\n",
    "    \n",
    "#### 卡方值计算：\n",
    "![](http://ddrvcn.oss-cn-hangzhou.aliyuncs.com/2019/10/RF3Ire.png)\n",
    "+ $i = 1,2$：表示相邻的两个分箱数目\n",
    "+ $j = 1,2$: 表示目标变量的类别数，比如目标是网贷违约的好和坏，就是两类。"
   ]
  },
  {
   "cell_type": "code",
   "execution_count": 33,
   "metadata": {},
   "outputs": [],
   "source": [
    "# 根据节点进行分箱，结果为：Bin+编号形式\n",
    "def AssignBin(x, cutOffPoints,special_attribute=[]):\n",
    "    '''\n",
    "    :param x: 某个变量的某个取值\n",
    "    :param cutOffPoints: 上述变量的分箱结果，用切分点表示\n",
    "    :param special_attribute:  不参与分箱的特殊取值\n",
    "    :return: 分箱后的对应的第几个箱，从0开始\n",
    "    for example, if cutOffPoints = [10,20,30], if x = 7, return Bin 0. If x = 35, return Bin 3\n",
    "    '''\n",
    "    numBin = len(cutOffPoints) + 1 + len(special_attribute)\n",
    "    if x in special_attribute:\n",
    "        i = special_attribute.index(x)+1\n",
    "        return 'Bin {}'.format(0-i)\n",
    "    if x<=cutOffPoints[0]:\n",
    "        return 'Bin 0'\n",
    "    elif x > cutOffPoints[-1]:\n",
    "        return 'Bin {}'.format(numBin-1)\n",
    "    else:\n",
    "        for i in range(0,numBin-1):\n",
    "            if cutOffPoints[i] < x <=  cutOffPoints[i+1]:\n",
    "                return 'Bin {}'.format(i+1)"
   ]
  },
  {
   "cell_type": "code",
   "execution_count": 34,
   "metadata": {},
   "outputs": [],
   "source": [
    "# 根据每个分箱点对应的数值，把变量的具体取值映射成分箱结果（该分箱对应切分点的数值）\n",
    "def AssignGroup(x, bin):\n",
    "    '''\n",
    "    :param x: 某个变量的某个取值\n",
    "    :param bin: 每个分箱点对应的数值\n",
    "    :return: x在分箱结果下的映射（该分箱对应切分点的数值）\n",
    "    '''\n",
    "    N = len(bin)\n",
    "    if x<=min(bin):\n",
    "        return min(bin)\n",
    "    elif x>max(bin):\n",
    "        return 10e10\n",
    "    else:\n",
    "        for i in range(N-1):\n",
    "            if bin[i] < x <= bin[i+1]:\n",
    "                return bin[i+1]"
   ]
  },
  {
   "cell_type": "code",
   "execution_count": 35,
   "metadata": {},
   "outputs": [],
   "source": [
    "def SplitData(df, col, numOfSplit, special_attribute=[]):\n",
    "    '''\n",
    "    :param df: 按照col排序后的数据集\n",
    "    :param col: 待分箱的变量\n",
    "    :param numOfSplit: 切分的组别数\n",
    "    :param special_attribute: 在切分数据集的时候，某些特殊值需要排除在外\n",
    "    :return: 每个分箱点对应的数值 (把原始细粒度的col重新划分成粗粒度的值，便于分箱中的合并处理)\n",
    "    '''\n",
    "    df2 = df.copy()\n",
    "    if special_attribute != []:\n",
    "        df2 = df.loc[~df[col].isin(special_attribute)]\n",
    "    N = df2.shape[0]#行数\n",
    "    #\" / \"就表示 浮点数除法，返回浮点结果;\" // \"表示整数除法\n",
    "    n = N//numOfSplit #每组样本数\n",
    "    splitPointIndex = [i*n for i in range(1,numOfSplit)] #分割点的下标\n",
    "    '''\n",
    "    [i*2 for i in range(1,100)]\n",
    "    [2, 4, 6, 8, 10,......,198]\n",
    "    '''\n",
    "    rawValues = sorted(list(df2[col])) #对取值进行排序\n",
    "    #取到粗糙卡方划分节点\n",
    "    splitPoint = [rawValues[i] for i in splitPointIndex] #分割点对应的数据取值\n",
    "    splitPoint = sorted(list(set(splitPoint)))\n",
    "    return splitPoint"
   ]
  },
  {
   "cell_type": "code",
   "execution_count": 36,
   "metadata": {},
   "outputs": [],
   "source": [
    "#计算卡方值的函数\n",
    "def Chi2(df, total_col, bad_col, overallRate):\n",
    "    '''\n",
    "    :param df: 包含全部样本总计与坏样本总计的数据框\n",
    "    :param total_col: 每个分箱中全部样本的个数\n",
    "    :param bad_col: 每个分箱中坏样本的个数\n",
    "    :param overallRate: 全体样本的坏样本占比\n",
    "    :return: 卡方值\n",
    "    '''\n",
    "    df2 = df.copy()\n",
    "    # 期望坏样本个数＝全部样本个数*平均坏样本占比\n",
    "    df2['expected'] = df[total_col].apply(lambda x: x*overallRate)\n",
    "    combined = zip(df2['expected'], df2[bad_col])\n",
    "    chi = [(i[0]-i[1])**2/i[0] for i in combined]\n",
    "    chi2 = sum(chi)\n",
    "    return chi2"
   ]
  },
  {
   "cell_type": "code",
   "execution_count": 37,
   "metadata": {},
   "outputs": [],
   "source": [
    "##ChiMerge_MaxInterval：通过指定最大间隔数，使用卡方值分割连续变量\n",
    "def ChiMerge(df, col, target, max_interval=5,special_attribute=[],minBinPcnt=0):\n",
    "    '''\n",
    "    :param df: 包含目标变量与分箱属性的数据框\n",
    "    :param col: 需要分箱的特征\n",
    "    :param target: 目标变量，取值0或1\n",
    "    :param max_interval: 最大分箱数。如果原始属性的取值个数低于该参数，不执行这段函数\n",
    "    :param special_attribute: 不参与分箱的属性取值，缺失值的情况\n",
    "    :param minBinPcnt：最小箱的占比，默认为0\n",
    "    :return: 分箱结果\n",
    "    '''\n",
    "    colLevels = sorted(list(set(df[col])))\n",
    "    N_distinct = len(colLevels)#不同的取值个数\n",
    "    if N_distinct <= max_interval:  #如果原始属性的取值个数低于max_interval，不执行这段函数\n",
    "        print (\"原始属性{}的取值个数低于max_interval\".format(col))\n",
    "        #分箱分数间隔段，少一个值也可以\n",
    "        #返回值colLevels会少一个最大值\n",
    "        return colLevels[:-1]\n",
    "    else:\n",
    "        if len(special_attribute)>=1:\n",
    "            #df1数据框取trainData中col那一列为特殊值的数据集\n",
    "            #df1 = df.loc[df[col].isin(special_attribute)]\n",
    "            print('{} 有缺失值的情况'.format(col))\n",
    "            #用逆函数对筛选后的结果取余，起删除指定行作用\n",
    "            df2 = df.loc[~df[col].isin(special_attribute)]\n",
    "        else:\n",
    "            df2 = df.copy()\n",
    "        N_distinct = len(list(set(df2[col])))#该特征不同的取值\n",
    " \n",
    "        # 步骤一: 通过col对数据集进行分组，求出每组的总样本数与坏样本数\n",
    "        if N_distinct > 100:\n",
    "            '''\n",
    "            split_x样例\n",
    "            [2, 8, 9.3, 10, 30,......, 1800]\n",
    "            '''\n",
    "            split_x = SplitData(df2, col, 100)\n",
    "            #把值变为划分点的值\n",
    "            df2['temp'] = df2[col].map(lambda x: AssignGroup(x, split_x))\n",
    "        else:\n",
    "            #假如数值取值小于100就不发生变化了\n",
    "            df2['temp'] = df2[col]\n",
    "        # 总体bad rate将被用来计算expected bad count\n",
    "        (binBadRate, regroup, overallRate) = BinBadRate(df2, 'temp', target, grantRateIndicator=1)\n",
    " \n",
    "        # 对每组属性进行排序和记录\n",
    "        colLevels = sorted(list(set(df2['temp'])))\n",
    "        groupIntervals = [[i] for i in colLevels]\n",
    " \n",
    "        # 步骤二：建立循环，不断合并最优的相邻两个组别，直到：\n",
    "        # 1，最终分裂出来的分箱数<＝预设的最大分箱数\n",
    "        # 2，每箱的占比不低于预设值（可选）\n",
    "        # 3，每箱同时包含好坏样本\n",
    "        # 如果有特殊属性，那么最终分裂出来的分箱数＝预设的最大分箱数－特殊属性的个数\n",
    "        split_intervals = max_interval - len(special_attribute)\n",
    "        while (len(groupIntervals) > split_intervals):  # 终止条件: 当前分箱数＝预设的分箱数\n",
    "            # 每次循环时, 计算合并相邻组别后的卡方值。具有最小卡方值的合并方案，是最优方案\n",
    "            #存储卡方值\n",
    "            chisqList = []\n",
    "            for k in range(len(groupIntervals)-1):\n",
    "                temp_group = groupIntervals[k] + groupIntervals[k+1]\n",
    "                df2b = regroup.loc[regroup['temp'].isin(temp_group)]\n",
    "                chisq = Chi2(df2b, 'total', 'bad', overallRate)\n",
    "                chisqList.append(chisq)\n",
    "            best_comnbined = chisqList.index(min(chisqList))\n",
    "            groupIntervals[best_comnbined] = groupIntervals[best_comnbined] + groupIntervals[best_comnbined+1]\n",
    "            # 去除区间\n",
    "            groupIntervals.remove(groupIntervals[best_comnbined+1])\n",
    "        groupIntervals = [sorted(i) for i in groupIntervals]\n",
    "        cutOffPoints = [max(i) for i in groupIntervals[:-1]]\n",
    " \n",
    "        # 应用卡方分箱，进行下一步检验\n",
    "        groupedvalues = df2['temp'].apply(lambda x: AssignBin(x, cutOffPoints))\n",
    "        # 检查是否有箱没有好或者坏样本。如果有，需要跟相邻的箱进行合并，直到每箱同时包含好坏样本\n",
    "        df2['temp_Bin'] = groupedvalues\n",
    "        (binBadRate,regroup) = BinBadRate(df2, 'temp_Bin', target)\n",
    "        [minBadRate, maxBadRate] = [min(binBadRate.values()),max(binBadRate.values())]\n",
    "        while minBadRate ==0 or maxBadRate == 1:\n",
    "            # 找出全部为好／坏样本的箱\n",
    "            indexForBad01 = regroup[regroup['bad_rate'].isin([0,1])].temp_Bin.tolist()\n",
    "            bin=indexForBad01[0]\n",
    "            # 如果是最后一箱，则需要和上一个箱进行合并，也就意味着分裂点cutOffPoints中的最后一个需要移除\n",
    "            if bin == max(regroup.temp_Bin):\n",
    "                cutOffPoints = cutOffPoints[:-1]\n",
    "            # 如果是第一箱，则需要和下一个箱进行合并，也就意味着分裂点cutOffPoints中的第一个需要移除\n",
    "            elif bin == min(regroup.temp_Bin):\n",
    "                cutOffPoints = cutOffPoints[1:]\n",
    "            # 如果是中间的某一箱，则需要和前后中的一个箱进行合并，依据是较小的卡方值\n",
    "            else:\n",
    "                # 和前一箱进行合并，并且计算卡方值\n",
    "                currentIndex = list(regroup.temp_Bin).index(bin)\n",
    "                prevIndex = list(regroup.temp_Bin)[currentIndex - 1]\n",
    "                df3 = df2.loc[df2['temp_Bin'].isin([prevIndex, bin])]\n",
    "                (binBadRate, df2b) = BinBadRate(df3, 'temp_Bin', target)\n",
    "                chisq1 = Chi2(df2b, 'total', 'bad', overallRate)\n",
    "                # 和后一箱进行合并，并且计算卡方值\n",
    "                laterIndex = list(regroup.temp_Bin)[currentIndex + 1]\n",
    "                df3b = df2.loc[df2['temp_Bin'].isin([laterIndex, bin])]\n",
    "                (binBadRate, df2b) = BinBadRate(df3b, 'temp_Bin', target)\n",
    "                chisq2 = Chi2(df2b, 'total', 'bad', overallRate)\n",
    "                if chisq1 < chisq2:\n",
    "                    cutOffPoints.remove(cutOffPoints[currentIndex - 1])\n",
    "                else:\n",
    "                    cutOffPoints.remove(cutOffPoints[currentIndex])\n",
    "            # 完成合并之后，需要再次计算新的分箱准则下，每箱是否同时包含好坏样本\n",
    "            groupedvalues = df2['temp'].apply(lambda x: AssignBin(x, cutOffPoints))\n",
    "            df2['temp_Bin'] = groupedvalues\n",
    "            (binBadRate, regroup) = BinBadRate(df2, 'temp_Bin', target)\n",
    "            [minBadRate, maxBadRate] = [min(binBadRate.values()), max(binBadRate.values())]\n",
    " \n",
    "        # 需要检查分箱后的最小占比\n",
    "        if minBinPcnt > 0:\n",
    "            groupedvalues = df2['temp'].apply(lambda x: AssignBin(x, cutOffPoints))\n",
    "            df2['temp_Bin'] = groupedvalues\n",
    "            #value_counts每个数值出现了多少次\n",
    "            valueCounts = groupedvalues.value_counts().to_frame()\n",
    "            N=sum(valueCounts['temp'])\n",
    "            valueCounts['pcnt'] = valueCounts['temp'].apply(lambda x: x * 1.0 / N)\n",
    "            valueCounts = valueCounts.sort_index()\n",
    "            minPcnt = min(valueCounts['pcnt'])\n",
    "            #一定要箱数大于2才可以，要不就不能再合并了\n",
    "            while minPcnt < minBinPcnt and len(cutOffPoints) > 2:\n",
    "                # 找出占比最小的箱\n",
    "                indexForMinPcnt = valueCounts[valueCounts['pcnt'] == minPcnt].index.tolist()[0]\n",
    "                # 如果占比最小的箱是最后一箱，则需要和上一个箱进行合并，也就意味着分裂点cutOffPoints中的最后一个需要移除\n",
    "                if indexForMinPcnt == max(valueCounts.index):\n",
    "                    cutOffPoints = cutOffPoints[:-1]\n",
    "                # 如果占比最小的箱是第一箱，则需要和下一个箱进行合并，也就意味着分裂点cutOffPoints中的第一个需要移除\n",
    "                elif indexForMinPcnt == min(valueCounts.index):\n",
    "                    cutOffPoints = cutOffPoints[1:]\n",
    "                # 如果占比最小的箱是中间的某一箱，则需要和前后中的一个箱进行合并，依据是较小的卡方值\n",
    "                else:\n",
    "                    # 和前一箱进行合并，并且计算卡方值\n",
    "                    currentIndex = list(valueCounts.index).index(indexForMinPcnt)\n",
    "                    prevIndex = list(valueCounts.index)[currentIndex - 1]\n",
    "                    df3 = df2.loc[df2['temp_Bin'].isin([prevIndex, indexForMinPcnt])]\n",
    "                    (binBadRate, df2b) = BinBadRate(df3, 'temp_Bin', target)\n",
    "                    chisq1 = Chi2(df2b, 'total', 'bad', overallRate)\n",
    "                    # 和后一箱进行合并，并且计算卡方值\n",
    "                    laterIndex = list(valueCounts.index)[currentIndex + 1]\n",
    "                    df3b = df2.loc[df2['temp_Bin'].isin([laterIndex, indexForMinPcnt])]\n",
    "                    (binBadRate, df2b) = BinBadRate(df3b, 'temp_Bin', target)\n",
    "                    chisq2 = Chi2(df2b, 'total', 'bad', overallRate)\n",
    "                    if chisq1 < chisq2:\n",
    "                        cutOffPoints.remove(cutOffPoints[currentIndex - 1])\n",
    "                    else:\n",
    "                        cutOffPoints.remove(cutOffPoints[currentIndex])\n",
    "        cutOffPoints = special_attribute + cutOffPoints\n",
    "        return cutOffPoints"
   ]
  },
  {
   "cell_type": "markdown",
   "metadata": {},
   "source": [
    "#### 分箱条件：\n",
    "1. 箱数不超过5\n",
    "2. bad rate单调\n",
    "3. 每箱占比不低于5%"
   ]
  },
  {
   "cell_type": "code",
   "execution_count": 38,
   "metadata": {},
   "outputs": [],
   "source": [
    "bin_dict = []\n",
    "for var in numericalFeatures:\n",
    "    binNum = 5\n",
    "    newBin = var + '_Bin'\n",
    "    bin = ChiMerge(trainData, var, 'label',max_interval=binNum,minBinPcnt = 0.05)\n",
    "    trainData[newBin] = trainData[var].apply(lambda x: AssignBin(x,bin))\n",
    "    # 如果不满足单调性，就降低分箱个数\n",
    "    while not BadRateMonotone(trainData, newBin, 'label'):\n",
    "        binNum -= 1\n",
    "        bin = ChiMerge(trainData, var, 'label', max_interval=binNum, minBinPcnt=0.05)\n",
    "        trainData[newBin] = trainData[var].apply(lambda x: AssignBin(x, bin))\n",
    "    WOE_IV_dict[newBin] = CalcWOE(trainData, newBin, 'label')\n",
    "    bin_dict.append({var:bin})"
   ]
  },
  {
   "cell_type": "markdown",
   "metadata": {},
   "source": [
    "# 3. 单变量分析和多变量分析"
   ]
  },
  {
   "cell_type": "markdown",
   "metadata": {},
   "source": [
    "## 3.1 选取IV高于0.02的变量"
   ]
  },
  {
   "cell_type": "code",
   "execution_count": 39,
   "metadata": {},
   "outputs": [
    {
     "data": {
      "text/plain": [
       "<BarContainer object of 33 artists>"
      ]
     },
     "execution_count": 39,
     "metadata": {},
     "output_type": "execute_result"
    },
    {
     "data": {
      "image/png": "[encoded data removed]",
      "text/plain": [
       "<Figure size 432x288 with 1 Axes>"
      ]
     },
     "metadata": {
      "needs_background": "light"
     },
     "output_type": "display_data"
    }
   ],
   "source": [
    "#  选取IV高于0.02的变量\n",
    "high_IV = [(k,v['IV']) for k,v in WOE_IV_dict.items() if v['IV'] >= 0.02]\n",
    "high_IV_sorted = sorted(high_IV, key=lambda k: k[1],reverse=True)\n",
    "IV_values = [i[1] for i in high_IV_sorted]\n",
    "IV_name = [i[0] for i in high_IV_sorted]\n",
    "plt.title('feature IV')\n",
    "plt.bar(range(len(IV_values)),IV_values)"
   ]
  },
  {
   "cell_type": "code",
   "execution_count": 40,
   "metadata": {},
   "outputs": [],
   "source": [
    "# 计算WOE\n",
    "for (var,iv) in high_IV:\n",
    "    newVar = var+\"_WOE\"\n",
    "    trainData[newVar] = trainData[var].map(lambda x: WOE_IV_dict[var]['WOE'][x])"
   ]
  },
  {
   "cell_type": "markdown",
   "metadata": {},
   "source": [
    "## 3.2 多变量分析：比较两两线性相关性\n",
    "如果相关系数的绝对值高于阈值，剔除IV较低的一个\n"
   ]
  },
  {
   "cell_type": "code",
   "execution_count": 41,
   "metadata": {},
   "outputs": [],
   "source": [
    "deleted_index = []\n",
    "cnt_vars = len(high_IV_sorted)\n",
    "for i in range(cnt_vars):\n",
    "    if i in deleted_index:\n",
    "        continue\n",
    "    x1 = high_IV_sorted[i][0]+\"_WOE\"\n",
    "    for j in range(cnt_vars):\n",
    "        if i == j or j in deleted_index:\n",
    "            continue\n",
    "        y1 = high_IV_sorted[j][0]+\"_WOE\"\n",
    "        roh = np.corrcoef(trainData[x1],trainData[y1])[0,1]\n",
    "        if abs(roh)>0.7:\n",
    "            x1_IV = high_IV_sorted[i][1]\n",
    "            y1_IV = high_IV_sorted[j][1]\n",
    "            if x1_IV > y1_IV:\n",
    "                deleted_index.append(j)\n",
    "            else:\n",
    "                deleted_index.append(i)"
   ]
  },
  {
   "cell_type": "code",
   "execution_count": 42,
   "metadata": {},
   "outputs": [
    {
     "data": {
      "text/plain": [
       "['maxDelqL3M_Bin_WOE',\n",
       " 'M1FreqL6M_Bin_WOE',\n",
       " 'M0FreqL3M_WOE',\n",
       " 'M2FreqL3M_Bin_WOE',\n",
       " 'M1FreqL12M_Bin_WOE',\n",
       " 'maxDelqL1M_Bin_WOE',\n",
       " 'M0FreqL6M_Bin_WOE',\n",
       " 'avgPayL6M_Bin_WOE',\n",
       " 'avgPayL12M_Bin_WOE',\n",
       " 'M0FreqL12M_Bin_WOE',\n",
       " 'avgPayL1M_Bin_WOE',\n",
       " 'increaseUrateL6M_Bin_WOE',\n",
       " 'maxPayL6M_Bin_WOE',\n",
       " 'minPayL3M_Bin_WOE',\n",
       " 'avgUrateL1M_Bin_WOE',\n",
       " 'increaseUrateL3M_WOE',\n",
       " 'avgUrateL3M_Bin_WOE',\n",
       " 'maxUrateL3M_Bin_WOE',\n",
       " 'minPayL6M_Bin_WOE',\n",
       " 'avgUrateL6M_Bin_WOE',\n",
       " 'maxPayL12M_Bin_WOE',\n",
       " 'maxUrateL6M_Bin_WOE',\n",
       " 'increaseUrateL12M_Bin_WOE']"
      ]
     },
     "execution_count": 42,
     "metadata": {},
     "output_type": "execute_result"
    }
   ],
   "source": [
    "# 提取剩余特征\n",
    "single_analysis_vars = [high_IV_sorted[i][0]+\"_WOE\" for i in range(cnt_vars) if i not in deleted_index]\n",
    "single_analysis_vars"
   ]
  },
  {
   "cell_type": "markdown",
   "metadata": {},
   "source": [
    "## 3.3 协方差热力图"
   ]
  },
  {
   "cell_type": "code",
   "execution_count": 43,
   "metadata": {},
   "outputs": [
    {
     "data": {
      "text/plain": [
       "<matplotlib.axes._subplots.AxesSubplot at 0x20d6b961348>"
      ]
     },
     "execution_count": 43,
     "metadata": {},
     "output_type": "execute_result"
    },
    {
     "data": {
      "image/png": "[encoded data removed]",
      "text/plain": [
       "<Figure size 720x576 with 2 Axes>"
      ]
     },
     "metadata": {
      "needs_background": "light"
     },
     "output_type": "display_data"
    }
   ],
   "source": [
    "X = trainData[single_analysis_vars]\n",
    "f, ax = plt.subplots(figsize=(10, 8))\n",
    "corr = X.corr()\n",
    "sns.heatmap(corr, mask=np.zeros_like(corr, dtype=np.bool), cmap='RdBu',square=True, ax=ax)"
   ]
  },
  {
   "cell_type": "markdown",
   "metadata": {},
   "source": [
    "## 3.4 多变量分析：VIF"
   ]
  },
  {
   "cell_type": "markdown",
   "metadata": {},
   "source": [
    "+ 方差扩大因子VIF可以度量多重共线性的严重程度  \n",
    "+ 每个自变量和其他自变量之间的辅助线性回归方程来检验模型当中是否存在多重共线性，\n",
    "$$x_{i}=c_{0}+c_{1}x_{1}+c_{2}x_{2}+...+c_{i-1}x_{i-1}+c_{i+1}x_{i+1}+...+c_{n}x_{n}$$\n",
    "+ 回归方程的$R^2$代表$x_{i}$能用其他变量解释的程度，也就代表了自变量本身多重共线性的强度，定义自变量$x_{i}$的方差扩大因子$VIF_{i}$为\n",
    "$$VIF_{i}=\\frac{1}{1-R^2}$$\n",
    "+ 当VIF>10，说明自变量$x_{i}$与其他变量具有严重的多重共线性"
   ]
  },
  {
   "cell_type": "code",
   "execution_count": 44,
   "metadata": {},
   "outputs": [
    {
     "name": "stdout",
     "output_type": "stream",
     "text": [
      "3.8095783502856286\n"
     ]
    }
   ],
   "source": [
    "X = np.matrix(trainData[single_analysis_vars])\n",
    "VIF_list = [variance_inflation_factor(X, i) for i in range(X.shape[1])]\n",
    "print(max(VIF_list))"
   ]
  },
  {
   "cell_type": "markdown",
   "metadata": {},
   "source": [
    "最大的VIF是 3.429，小于10，因此认为没有多重共线性\n"
   ]
  },
  {
   "cell_type": "code",
   "execution_count": 45,
   "metadata": {},
   "outputs": [],
   "source": [
    "multi_analysis = single_analysis_vars"
   ]
  },
  {
   "cell_type": "markdown",
   "metadata": {},
   "source": [
    "# 4. 建立逻辑回归模型预测违约"
   ]
  },
  {
   "cell_type": "markdown",
   "metadata": {},
   "source": [
    "## 4.1 逻辑回归"
   ]
  },
  {
   "cell_type": "code",
   "execution_count": 46,
   "metadata": {},
   "outputs": [
    {
     "name": "stderr",
     "output_type": "stream",
     "text": [
      "C:\\Users\\Junbo\\Anaconda3\\lib\\site-packages\\numpy\\core\\fromnumeric.py:2389: FutureWarning: Method .ptp is deprecated and will be removed in a future version. Use numpy.ptp instead.\n",
      "  return ptp(axis=axis, out=out, **kwargs)\n"
     ]
    }
   ],
   "source": [
    "X = trainData[multi_analysis]\n",
    "X = sm.add_constant(X)\n",
    "y = trainData['label']"
   ]
  },
  {
   "cell_type": "code",
   "execution_count": 47,
   "metadata": {},
   "outputs": [
    {
     "name": "stdout",
     "output_type": "stream",
     "text": [
      "Optimization terminated successfully.\n",
      "         Current function value: 0.258296\n",
      "         Iterations 7\n"
     ]
    }
   ],
   "source": [
    "logit = sm.Logit(y, X)\n",
    "logit_result = logit.fit()"
   ]
  },
  {
   "cell_type": "code",
   "execution_count": 48,
   "metadata": {
    "scrolled": false
   },
   "outputs": [
    {
     "name": "stdout",
     "output_type": "stream",
     "text": [
      "                           Logit Regression Results                           \n",
      "==============================================================================\n",
      "Dep. Variable:                  label   No. Observations:                28099\n",
      "Model:                          Logit   Df Residuals:                    28075\n",
      "Method:                           MLE   Df Model:                           23\n",
      "Date:                Mon, 30 Mar 2020   Pseudo R-squ.:                  0.3618\n",
      "Time:                        16:55:23   Log-Likelihood:                -7257.9\n",
      "converged:                       True   LL-Null:                       -11372.\n",
      "Covariance Type:            nonrobust   LLR p-value:                     0.000\n",
      "=============================================================================================\n",
      "                                coef    std err          z      P>|z|      [0.025      0.975]\n",
      "---------------------------------------------------------------------------------------------\n",
      "const                        -1.8127      0.024    -76.329      0.000      -1.859      -1.766\n",
      "maxDelqL3M_Bin_WOE           -0.7358      0.027    -27.222      0.000      -0.789      -0.683\n",
      "M1FreqL6M_Bin_WOE            -0.0680      0.040     -1.718      0.086      -0.146       0.010\n",
      "M0FreqL3M_WOE                -0.3923      0.037    -10.621      0.000      -0.465      -0.320\n",
      "M2FreqL3M_Bin_WOE            -0.6810      0.040    -16.838      0.000      -0.760      -0.602\n",
      "M1FreqL12M_Bin_WOE           -0.1256      0.042     -3.014      0.003      -0.207      -0.044\n",
      "maxDelqL1M_Bin_WOE           -0.1628      0.031     -5.215      0.000      -0.224      -0.102\n",
      "M0FreqL6M_Bin_WOE             0.1456      0.047      3.110      0.002       0.054       0.237\n",
      "avgPayL6M_Bin_WOE            -0.2089      0.041     -5.058      0.000      -0.290      -0.128\n",
      "avgPayL12M_Bin_WOE           -0.0395      0.052     -0.758      0.449      -0.142       0.063\n",
      "M0FreqL12M_Bin_WOE            0.0774      0.058      1.333      0.183      -0.036       0.191\n",
      "avgPayL1M_Bin_WOE             0.2609      0.077      3.405      0.001       0.111       0.411\n",
      "increaseUrateL6M_Bin_WOE     -1.2205      0.073    -16.659      0.000      -1.364      -1.077\n",
      "maxPayL6M_Bin_WOE            -0.0639      0.073     -0.877      0.381      -0.207       0.079\n",
      "minPayL3M_Bin_WOE             0.1513      0.075      2.024      0.043       0.005       0.298\n",
      "avgUrateL1M_Bin_WOE          -0.5486      0.106     -5.169      0.000      -0.757      -0.341\n",
      "increaseUrateL3M_WOE         -0.3008      0.096     -3.136      0.002      -0.489      -0.113\n",
      "avgUrateL3M_Bin_WOE          -0.4673      0.119     -3.920      0.000      -0.701      -0.234\n",
      "maxUrateL3M_Bin_WOE          -0.2137      0.145     -1.471      0.141      -0.498       0.071\n",
      "minPayL6M_Bin_WOE             0.1079      0.114      0.946      0.344      -0.116       0.331\n",
      "avgUrateL6M_Bin_WOE          -0.3098      0.143     -2.166      0.030      -0.590      -0.030\n",
      "maxPayL12M_Bin_WOE            0.0308      0.130      0.236      0.814      -0.225       0.287\n",
      "maxUrateL6M_Bin_WOE          -0.0563      0.152     -0.369      0.712      -0.355       0.243\n",
      "increaseUrateL12M_Bin_WOE     0.1158      0.147      0.790      0.429      -0.171       0.403\n",
      "=============================================================================================\n"
     ]
    }
   ],
   "source": [
    "print(logit_result.summary())"
   ]
  },
  {
   "cell_type": "markdown",
   "metadata": {},
   "source": [
    "其中变量 `maxPayL12M_Bin_WOE`, `M0FreqL12M_Bin_WOE`, `minPayL6M_Bin_WOE`, `increaseUrateL12M_Bin_WOE`, `M0FreqL6M_Bin_WOE`, `minPayL3M_Bin_WOE`, `avgPayL1M_Bin_WOE`的系数为正，需要单独检验"
   ]
  },
  {
   "cell_type": "code",
   "execution_count": 49,
   "metadata": {},
   "outputs": [
    {
     "name": "stdout",
     "output_type": "stream",
     "text": [
      "Optimization terminated successfully.\n",
      "         Current function value: 0.688430\n",
      "         Iterations 4\n"
     ]
    },
    {
     "data": {
      "text/plain": [
       "maxPayL12M_Bin_WOE   -0.980206\n",
       "dtype: float64"
      ]
     },
     "execution_count": 49,
     "metadata": {},
     "output_type": "execute_result"
    }
   ],
   "source": [
    "sm.Logit(y, trainData['maxPayL12M_Bin_WOE']).fit().params"
   ]
  },
  {
   "cell_type": "code",
   "execution_count": 50,
   "metadata": {},
   "outputs": [
    {
     "name": "stdout",
     "output_type": "stream",
     "text": [
      "Optimization terminated successfully.\n",
      "         Current function value: 0.658669\n",
      "         Iterations 5\n"
     ]
    },
    {
     "data": {
      "text/plain": [
       "M0FreqL12M_Bin_WOE   -1.050918\n",
       "dtype: float64"
      ]
     },
     "execution_count": 50,
     "metadata": {},
     "output_type": "execute_result"
    }
   ],
   "source": [
    "sm.Logit(y, trainData['M0FreqL12M_Bin_WOE']).fit().params"
   ]
  },
  {
   "cell_type": "code",
   "execution_count": 51,
   "metadata": {},
   "outputs": [
    {
     "name": "stdout",
     "output_type": "stream",
     "text": [
      "Optimization terminated successfully.\n",
      "         Current function value: 0.687305\n",
      "         Iterations 5\n"
     ]
    },
    {
     "data": {
      "text/plain": [
       "minPayL6M_Bin_WOE   -0.812302\n",
       "dtype: float64"
      ]
     },
     "execution_count": 51,
     "metadata": {},
     "output_type": "execute_result"
    }
   ],
   "source": [
    "sm.Logit(y, trainData['minPayL6M_Bin_WOE']).fit().params"
   ]
  },
  {
   "cell_type": "code",
   "execution_count": 52,
   "metadata": {},
   "outputs": [
    {
     "name": "stdout",
     "output_type": "stream",
     "text": [
      "Optimization terminated successfully.\n",
      "         Current function value: 0.689192\n",
      "         Iterations 4\n"
     ]
    },
    {
     "data": {
      "text/plain": [
       "increaseUrateL12M_Bin_WOE   -0.914707\n",
       "dtype: float64"
      ]
     },
     "execution_count": 52,
     "metadata": {},
     "output_type": "execute_result"
    }
   ],
   "source": [
    "sm.Logit(y, trainData['increaseUrateL12M_Bin_WOE']).fit().params"
   ]
  },
  {
   "cell_type": "code",
   "execution_count": 53,
   "metadata": {},
   "outputs": [
    {
     "name": "stdout",
     "output_type": "stream",
     "text": [
      "Optimization terminated successfully.\n",
      "         Current function value: 0.621313\n",
      "         Iterations 5\n"
     ]
    },
    {
     "data": {
      "text/plain": [
       "M0FreqL6M_Bin_WOE   -1.065785\n",
       "dtype: float64"
      ]
     },
     "execution_count": 53,
     "metadata": {},
     "output_type": "execute_result"
    }
   ],
   "source": [
    "sm.Logit(y, trainData['M0FreqL6M_Bin_WOE']).fit().params"
   ]
  },
  {
   "cell_type": "code",
   "execution_count": 54,
   "metadata": {},
   "outputs": [
    {
     "name": "stdout",
     "output_type": "stream",
     "text": [
      "Optimization terminated successfully.\n",
      "         Current function value: 0.677248\n",
      "         Iterations 5\n"
     ]
    },
    {
     "data": {
      "text/plain": [
       "minPayL3M_Bin_WOE   -0.819148\n",
       "dtype: float64"
      ]
     },
     "execution_count": 54,
     "metadata": {},
     "output_type": "execute_result"
    }
   ],
   "source": [
    "sm.Logit(y, trainData['minPayL3M_Bin_WOE']).fit().params"
   ]
  },
  {
   "cell_type": "code",
   "execution_count": 55,
   "metadata": {},
   "outputs": [
    {
     "name": "stdout",
     "output_type": "stream",
     "text": [
      "Optimization terminated successfully.\n",
      "         Current function value: 0.672177\n",
      "         Iterations 4\n"
     ]
    },
    {
     "data": {
      "text/plain": [
       "avgPayL1M_Bin_WOE   -1.007179\n",
       "dtype: float64"
      ]
     },
     "execution_count": 55,
     "metadata": {},
     "output_type": "execute_result"
    }
   ],
   "source": [
    "sm.Logit(y, trainData['avgPayL1M_Bin_WOE']).fit().params"
   ]
  },
  {
   "cell_type": "markdown",
   "metadata": {},
   "source": [
    "单独建立回归模型，系数为负，与预期相符，说明仍然存在多重共线性"
   ]
  },
  {
   "cell_type": "markdown",
   "metadata": {},
   "source": [
    "## 4.2 挑选出合适的变量\n",
    "GBDT计算变量重要性"
   ]
  },
  {
   "cell_type": "code",
   "execution_count": 56,
   "metadata": {},
   "outputs": [],
   "source": [
    "clf = ensemble.GradientBoostingClassifier()\n",
    "gbdt_model = clf.fit(X.iloc[:,1:], y)\n",
    "importace = gbdt_model.feature_importances_.tolist()\n",
    "featureImportance = zip(multi_analysis,importace)\n",
    "featureImportanceSorted = sorted(featureImportance, key=lambda k: k[1],reverse=True)"
   ]
  },
  {
   "cell_type": "code",
   "execution_count": 57,
   "metadata": {},
   "outputs": [
    {
     "data": {
      "text/plain": [
       "<matplotlib.axes._subplots.AxesSubplot at 0x20d6d425b08>"
      ]
     },
     "execution_count": 57,
     "metadata": {},
     "output_type": "execute_result"
    },
    {
     "data": {
      "image/png": "[encoded data removed]",
      "text/plain": [
       "<Figure size 576x360 with 1 Axes>"
      ]
     },
     "metadata": {
      "needs_background": "light"
     },
     "output_type": "display_data"
    }
   ],
   "source": [
    "plt.figure(figsize = (8,5))\n",
    "pd.Series(importace, index = multi_analysis).sort_values(ascending=False).plot.bar()"
   ]
  },
  {
   "cell_type": "markdown",
   "metadata": {},
   "source": [
    "先假定模型可以容纳5个特征，再逐步增加特征个数，直到有特征的系数为正，或者p值超过0.1\n"
   ]
  },
  {
   "cell_type": "code",
   "execution_count": 58,
   "metadata": {},
   "outputs": [
    {
     "name": "stdout",
     "output_type": "stream",
     "text": [
      "Optimization terminated successfully.\n",
      "         Current function value: 0.261689\n",
      "         Iterations 7\n"
     ]
    }
   ],
   "source": [
    "n = 5\n",
    "featureSelected = [i[0] for i in featureImportanceSorted[:n]]\n",
    "X_train = X[featureSelected+['const']]\n",
    "logit = sm.Logit(y, X_train)\n",
    "logit_result = logit.fit()"
   ]
  },
  {
   "cell_type": "code",
   "execution_count": 59,
   "metadata": {},
   "outputs": [
    {
     "name": "stdout",
     "output_type": "stream",
     "text": [
      "                           Logit Regression Results                           \n",
      "==============================================================================\n",
      "Dep. Variable:                  label   No. Observations:                28099\n",
      "Model:                          Logit   Df Residuals:                    28093\n",
      "Method:                           MLE   Df Model:                            5\n",
      "Date:                Mon, 30 Mar 2020   Pseudo R-squ.:                  0.3534\n",
      "Time:                        16:55:26   Log-Likelihood:                -7353.2\n",
      "converged:                       True   LL-Null:                       -11372.\n",
      "Covariance Type:            nonrobust   LLR p-value:                     0.000\n",
      "============================================================================================\n",
      "                               coef    std err          z      P>|z|      [0.025      0.975]\n",
      "--------------------------------------------------------------------------------------------\n",
      "maxDelqL3M_Bin_WOE          -0.8272      0.018    -45.860      0.000      -0.863      -0.792\n",
      "increaseUrateL6M_Bin_WOE    -1.2966      0.060    -21.528      0.000      -1.415      -1.179\n",
      "M2FreqL3M_Bin_WOE           -0.6977      0.040    -17.571      0.000      -0.776      -0.620\n",
      "avgUrateL1M_Bin_WOE         -1.0710      0.071    -15.104      0.000      -1.210      -0.932\n",
      "M0FreqL3M_WOE               -0.3904      0.025    -15.546      0.000      -0.440      -0.341\n",
      "const                       -1.8162      0.024    -77.267      0.000      -1.862      -1.770\n",
      "============================================================================================\n"
     ]
    }
   ],
   "source": [
    "print(logit_result.summary())"
   ]
  },
  {
   "cell_type": "code",
   "execution_count": 60,
   "metadata": {},
   "outputs": [
    {
     "name": "stdout",
     "output_type": "stream",
     "text": [
      "Optimization terminated successfully.\n",
      "         Current function value: 0.260816\n",
      "         Iterations 7\n",
      "current var is  avgUrateL3M_Bin_WOE     -0.6344921536866451\n",
      "Optimization terminated successfully.\n",
      "         Current function value: 0.260514\n",
      "         Iterations 7\n",
      "current var is  M1FreqL6M_Bin_WOE     -0.12734209272525582\n",
      "Optimization terminated successfully.\n",
      "         Current function value: 0.260098\n",
      "         Iterations 7\n",
      "current var is  maxDelqL1M_Bin_WOE     -0.12931346268820676\n",
      "Optimization terminated successfully.\n",
      "         Current function value: 0.259965\n",
      "         Iterations 7\n",
      "current var is  increaseUrateL3M_WOE     -0.25930721620281016\n",
      "Optimization terminated successfully.\n",
      "         Current function value: 0.259452\n",
      "         Iterations 7\n",
      "current var is  avgPayL6M_Bin_WOE     -0.18973676141012363\n",
      "Optimization terminated successfully.\n",
      "         Current function value: 0.259076\n",
      "         Iterations 7\n",
      "current var is  M0FreqL6M_Bin_WOE     0.19737349227229262\n",
      "Optimization terminated successfully.\n",
      "         Current function value: 0.259358\n",
      "         Iterations 7\n",
      "current var is  avgUrateL6M_Bin_WOE     -0.31787364696452175\n",
      "Optimization terminated successfully.\n",
      "         Current function value: 0.259295\n",
      "         Iterations 7\n",
      "current var is  maxUrateL3M_Bin_WOE     -0.2464851179077555\n",
      "Optimization terminated successfully.\n",
      "         Current function value: 0.259160\n",
      "         Iterations 7\n",
      "current var is  M1FreqL12M_Bin_WOE     -0.10436873757340845\n",
      "Optimization terminated successfully.\n",
      "         Current function value: 0.259157\n",
      "         Iterations 7\n",
      "current var is  maxUrateL6M_Bin_WOE     -0.06071974899645918\n",
      "Optimization terminated successfully.\n",
      "         Current function value: 0.259144\n",
      "         Iterations 7\n",
      "current var is  increaseUrateL12M_Bin_WOE     0.126122012189059\n",
      "Optimization terminated successfully.\n",
      "         Current function value: 0.259142\n",
      "         Iterations 7\n",
      "current var is  avgPayL12M_Bin_WOE     0.04332250869255201\n",
      "Optimization terminated successfully.\n",
      "         Current function value: 0.259002\n",
      "         Iterations 7\n",
      "current var is  M0FreqL12M_Bin_WOE     0.15101668863026768\n",
      "Optimization terminated successfully.\n",
      "         Current function value: 0.259154\n",
      "         Iterations 7\n",
      "current var is  maxPayL6M_Bin_WOE     0.02483999844499307\n",
      "Optimization terminated successfully.\n",
      "         Current function value: 0.258985\n",
      "         Iterations 7\n",
      "current var is  minPayL6M_Bin_WOE     0.33027477851509585\n",
      "Optimization terminated successfully.\n",
      "         Current function value: 0.258794\n",
      "         Iterations 7\n",
      "current var is  avgPayL1M_Bin_WOE     0.33043311884552906\n",
      "Optimization terminated successfully.\n",
      "         Current function value: 0.258863\n",
      "         Iterations 7\n",
      "current var is  minPayL3M_Bin_WOE     0.27471044513070547\n",
      "Optimization terminated successfully.\n",
      "         Current function value: 0.259144\n",
      "         Iterations 7\n",
      "current var is  maxPayL12M_Bin_WOE     0.09780763426571572\n"
     ]
    }
   ],
   "source": [
    "n = 5\n",
    "while(n<len(featureImportanceSorted)):\n",
    "    nextVar = featureImportanceSorted[n][0]\n",
    "    featureSelected = featureSelected + [nextVar]\n",
    "    X_train = X[featureSelected+['const']]\n",
    "    logit = sm.Logit(y, X_train,)\n",
    "    logit_result = logit.fit()\n",
    "    params = logit_result.params\n",
    "    print(\"current var is \",nextVar,'   ', params[nextVar])\n",
    "    if max(params) < 0:\n",
    "        n += 1\n",
    "    else:\n",
    "        featureSelected.remove(nextVar)\n",
    "        n += 1"
   ]
  },
  {
   "cell_type": "markdown",
   "metadata": {},
   "source": [
    "可用L1约束，直到所有变量显著\n"
   ]
  },
  {
   "cell_type": "code",
   "execution_count": 61,
   "metadata": {},
   "outputs": [
    {
     "name": "stdout",
     "output_type": "stream",
     "text": [
      "Optimization terminated successfully.    (Exit mode 0)\n",
      "            Current function value: 0.280759550874888\n",
      "            Iterations: 94\n",
      "            Function evaluations: 94\n",
      "            Gradient evaluations: 94\n"
     ]
    },
    {
     "name": "stderr",
     "output_type": "stream",
     "text": [
      "C:\\Users\\Junbo\\Anaconda3\\lib\\site-packages\\scipy\\stats\\_distn_infrastructure.py:901: RuntimeWarning: invalid value encountered in greater\n",
      "  return (a < x) & (x < b)\n",
      "C:\\Users\\Junbo\\Anaconda3\\lib\\site-packages\\scipy\\stats\\_distn_infrastructure.py:901: RuntimeWarning: invalid value encountered in less\n",
      "  return (a < x) & (x < b)\n",
      "C:\\Users\\Junbo\\Anaconda3\\lib\\site-packages\\scipy\\stats\\_distn_infrastructure.py:1892: RuntimeWarning: invalid value encountered in less_equal\n",
      "  cond2 = cond0 & (x <= _a)\n"
     ]
    }
   ],
   "source": [
    "X2 = X[featureSelected+['const']]\n",
    "for alpha in range(100,0,-1):\n",
    "    l1_logit = sm.Logit.fit_regularized(sm.Logit(y, X2), start_params=None, method='l1', alpha=alpha)\n",
    "    pvalues = l1_logit.pvalues\n",
    "    params = l1_logit.params\n",
    "    if max(pvalues)>=0.1 or max(params)>0:\n",
    "        break"
   ]
  },
  {
   "cell_type": "code",
   "execution_count": 62,
   "metadata": {},
   "outputs": [
    {
     "name": "stdout",
     "output_type": "stream",
     "text": [
      "Optimization terminated successfully.    (Exit mode 0)\n",
      "            Current function value: 0.2809512631584162\n",
      "            Iterations: 94\n",
      "            Function evaluations: 95\n",
      "            Gradient evaluations: 94\n"
     ]
    }
   ],
   "source": [
    "bestAlpha = alpha + 1\n",
    "l1_logit = sm.Logit.fit_regularized(sm.Logit(y, X2), start_params=None, method='l1', alpha=bestAlpha)\n",
    "params = l1_logit.params\n",
    "params2 = params.to_dict()\n",
    "featuresInModel = [k for k, v in params2.items() if k!='const' and v < -0.0000001]"
   ]
  },
  {
   "cell_type": "markdown",
   "metadata": {},
   "source": [
    "## 4.3 最终模型"
   ]
  },
  {
   "cell_type": "code",
   "execution_count": 63,
   "metadata": {},
   "outputs": [
    {
     "name": "stdout",
     "output_type": "stream",
     "text": [
      "Optimization terminated successfully.\n",
      "         Current function value: 0.259463\n",
      "         Iterations 7\n"
     ]
    }
   ],
   "source": [
    "X_train = X[featuresInModel + ['const']]\n",
    "logit = sm.Logit(y, X_train)\n",
    "logit_result = logit.fit()\n",
    "trainData['pred'] = logit_result.predict(X_train)"
   ]
  },
  {
   "cell_type": "code",
   "execution_count": 64,
   "metadata": {
    "scrolled": false
   },
   "outputs": [
    {
     "name": "stdout",
     "output_type": "stream",
     "text": [
      "                           Logit Regression Results                           \n",
      "==============================================================================\n",
      "Dep. Variable:                  label   No. Observations:                28099\n",
      "Model:                          Logit   Df Residuals:                    28088\n",
      "Method:                           MLE   Df Model:                           10\n",
      "Date:                Mon, 30 Mar 2020   Pseudo R-squ.:                  0.3589\n",
      "Time:                        16:55:27   Log-Likelihood:                -7290.6\n",
      "converged:                       True   LL-Null:                       -11372.\n",
      "Covariance Type:            nonrobust   LLR p-value:                     0.000\n",
      "============================================================================================\n",
      "                               coef    std err          z      P>|z|      [0.025      0.975]\n",
      "--------------------------------------------------------------------------------------------\n",
      "maxDelqL3M_Bin_WOE          -0.7623      0.026    -29.589      0.000      -0.813      -0.712\n",
      "increaseUrateL6M_Bin_WOE    -1.2612      0.061    -20.621      0.000      -1.381      -1.141\n",
      "M2FreqL3M_Bin_WOE           -0.6830      0.040    -16.953      0.000      -0.762      -0.604\n",
      "avgUrateL1M_Bin_WOE         -0.7889      0.083     -9.517      0.000      -0.951      -0.626\n",
      "M0FreqL3M_WOE               -0.2682      0.031     -8.660      0.000      -0.329      -0.207\n",
      "avgUrateL3M_Bin_WOE         -0.6163      0.091     -6.739      0.000      -0.796      -0.437\n",
      "M1FreqL6M_Bin_WOE           -0.0247      0.037     -0.668      0.504      -0.097       0.048\n",
      "maxDelqL1M_Bin_WOE          -0.1289      0.027     -4.793      0.000      -0.182      -0.076\n",
      "avgPayL6M_Bin_WOE           -0.1870      0.035     -5.302      0.000      -0.256      -0.118\n",
      "M1FreqL12M_Bin_WOE          -0.1044      0.038     -2.767      0.006      -0.178      -0.030\n",
      "const                       -1.8092      0.024    -76.594      0.000      -1.856      -1.763\n",
      "============================================================================================\n"
     ]
    }
   ],
   "source": [
    "print(logit_result.summary())"
   ]
  },
  {
   "cell_type": "markdown",
   "metadata": {},
   "source": [
    "# 5. 测试集评价模型"
   ]
  },
  {
   "cell_type": "code",
   "execution_count": 65,
   "metadata": {},
   "outputs": [],
   "source": [
    "# 准备WOE编码后的变量\n",
    "modelFeatures = [i.replace('_Bin','').replace('_WOE','') for i in featuresInModel]\n",
    "'''\n",
    "['maxDelqL3M',\n",
    " 'increaseUrateL6M',\n",
    " 'M0FreqL3M',\n",
    " 'avgUrateL1M',\n",
    " 'M2FreqL3M',\n",
    " 'M1FreqL6M',\n",
    " 'avgUrateL3M',\n",
    " 'maxDelqL1M',\n",
    " 'avgPayL6M',\n",
    " 'M1FreqL12M']\n",
    "'''\n",
    "numFeatures = [i for i in modelFeatures if i in numericalFeatures]\n",
    "charFeatures = [i for i in modelFeatures if i in categoricalFeatures]"
   ]
  },
  {
   "cell_type": "code",
   "execution_count": 66,
   "metadata": {},
   "outputs": [],
   "source": [
    "#满足变量的数据预处理\n",
    "testData['maxDelqL1M'] = testData.apply(lambda x: DelqFeatures(x,1,'max delq'),axis=1)\n",
    "testData['maxDelqL3M'] = testData.apply(lambda x: DelqFeatures(x,3,'max delq'),axis=1)\n",
    "# testData['M2FreqL3M'] = testData.apply(lambda x: DelqFeatures(x, 3, 'M2 times'), axis=1)\n",
    "testData['M0FreqL3M'] = testData.apply(lambda x: DelqFeatures(x,3,'M0 times'),axis=1)\n",
    "testData['M1FreqL6M'] = testData.apply(lambda x: DelqFeatures(x, 6, 'M1 times'), axis=1)\n",
    "testData['M2FreqL3M'] = testData.apply(lambda x: DelqFeatures(x, 3, 'M2 times'), axis=1)\n",
    "testData['M1FreqL12M'] = testData.apply(lambda x: DelqFeatures(x, 12, 'M1 times'), axis=1)\n",
    "# testData['maxUrateL6M'] = testData.apply(lambda x: UrateFeatures(x,6,'max utilization rate'),axis = 1)\n",
    "testData['avgUrateL1M'] = testData.apply(lambda x: UrateFeatures(x,1, 'mean utilization rate'),axis=1)\n",
    "testData['avgUrateL3M'] = testData.apply(lambda x: UrateFeatures(x,3, 'mean utilization rate'),axis=1)\n",
    "# testData['avgUrateL6M'] = testData.apply(lambda x: UrateFeatures(x,6, 'mean utilization rate'),axis=1)\n",
    "testData['increaseUrateL6M'] = testData.apply(lambda x: UrateFeatures(x, 6, 'increase utilization rate'),axis=1)\n",
    "# testData['avgPayL3M'] = testData.apply(lambda x: PaymentFeatures(x, 3, 'mean payment ratio'),axis=1)\n",
    "testData['avgPayL6M'] = testData.apply(lambda x: PaymentFeatures(x, 6, 'mean payment ratio'),axis=1)"
   ]
  },
  {
   "cell_type": "code",
   "execution_count": 67,
   "metadata": {},
   "outputs": [],
   "source": [
    "#合并分箱\n",
    "testData['M2FreqL3M_Bin'] = testData['M2FreqL3M'].apply(lambda x: int(x>=1))\n",
    "testData['maxDelqL1M_Bin'] = testData['maxDelqL1M'].apply(lambda x: MergeByCondition(x,['==0','==1','>=2']))\n",
    "testData['maxDelqL3M_Bin'] = testData['maxDelqL3M'].apply(lambda x: MergeByCondition(x,['==0','==1','>=2']))"
   ]
  },
  {
   "cell_type": "code",
   "execution_count": 68,
   "metadata": {},
   "outputs": [],
   "source": [
    "for var in numFeatures:\n",
    "    newBin = var+\"_Bin\"\n",
    "    bin = [list(i.values()) for i in bin_dict if var in i][0][0]\n",
    "    testData[newBin] = testData[var].apply(lambda x: AssignBin(x,bin))\n",
    " \n",
    "finalFeatures = [i+'_Bin' for i in numFeatures] + ['M2FreqL3M_Bin','maxDelqL1M_Bin','maxDelqL3M_Bin','M0FreqL3M']"
   ]
  },
  {
   "cell_type": "code",
   "execution_count": 69,
   "metadata": {},
   "outputs": [],
   "source": [
    "for var in finalFeatures:\n",
    "    var2 = var+\"_WOE\"\n",
    "    testData[var2] = testData[var].apply(lambda x: WOE_IV_dict[var]['WOE'][x])"
   ]
  },
  {
   "cell_type": "code",
   "execution_count": 70,
   "metadata": {},
   "outputs": [
    {
     "name": "stderr",
     "output_type": "stream",
     "text": [
      "C:\\Users\\Junbo\\Anaconda3\\lib\\site-packages\\numpy\\core\\fromnumeric.py:2389: FutureWarning: Method .ptp is deprecated and will be removed in a future version. Use numpy.ptp instead.\n",
      "  return ptp(axis=axis, out=out, **kwargs)\n"
     ]
    }
   ],
   "source": [
    "X_test = testData[featuresInModel]\n",
    "X_test = sm.add_constant(X_test)\n",
    "testData['pred'] = logit_result.predict(X_test)"
   ]
  },
  {
   "cell_type": "code",
   "execution_count": 71,
   "metadata": {},
   "outputs": [],
   "source": [
    "fpr,tpr,_ = roc_curve(testData['label'],testData['pred'])\n",
    "auc = roc_auc_score(testData['label'],testData['pred'])\n",
    "ks = max(tpr-fpr)"
   ]
  },
  {
   "cell_type": "code",
   "execution_count": 72,
   "metadata": {
    "scrolled": true
   },
   "outputs": [
    {
     "name": "stdout",
     "output_type": "stream",
     "text": [
      "KS = 0.61, AUC = 0.83\n"
     ]
    }
   ],
   "source": [
    "print('KS = {:.2f}, AUC = {:.2f}'.format(ks,auc))"
   ]
  },
  {
   "cell_type": "markdown",
   "metadata": {},
   "source": [
    "KS＝0.61， AUC ＝ 0.83，都高于30%的标准。因此该模型是可用的。"
   ]
  },
  {
   "cell_type": "markdown",
   "metadata": {},
   "source": [
    "# 6. 计算分数"
   ]
  },
  {
   "cell_type": "code",
   "execution_count": 73,
   "metadata": {},
   "outputs": [],
   "source": [
    "def Prob2Score(prob, basePoint, PDO):\n",
    "    #将概率转化成分数且为正整数\n",
    "    y = np.log(prob/(1-prob))\n",
    "    return int(basePoint+PDO/np.log(2)*(-y))"
   ]
  },
  {
   "cell_type": "code",
   "execution_count": 74,
   "metadata": {},
   "outputs": [
    {
     "data": {
      "text/plain": [
       "(array([  17.,   20.,    7.,   12.,   16.,   11.,    5.,    3.,    0.,\n",
       "           3.,   14.,   13.,   12.,   15.,   20.,   12.,   11.,    6.,\n",
       "          13.,    5.,    3.,    3.,    8.,   12.,   16.,   30.,   15.,\n",
       "          22.,   31.,   25.,   15.,   33.,   31.,   38.,   43.,   43.,\n",
       "          57.,   52.,   63.,   77.,   80.,   63.,   44.,   55.,  124.,\n",
       "         145.,   58.,  169.,  226.,   72.,   95.,  149.,  115.,   73.,\n",
       "           6.,   24.,   60.,   54.,   24.,   18.,   28.,   41.,   50.,\n",
       "          75.,   61.,   50.,   61.,   64.,   60.,   94.,  201.,  171.,\n",
       "          72.,   96.,  379.,  562.,  448.,  378.,  476.,  458.,  330.,\n",
       "         269.,  113.,   31.,   10.,   12.,   33.,  234.,  252.,    8.,\n",
       "          94.,  520., 1032.,  315.,  608.,  224.,  782.,  196.,  551.,\n",
       "         118.]),\n",
       " array([-251.  , -238.97, -226.94, -214.91, -202.88, -190.85, -178.82,\n",
       "        -166.79, -154.76, -142.73, -130.7 , -118.67, -106.64,  -94.61,\n",
       "         -82.58,  -70.55,  -58.52,  -46.49,  -34.46,  -22.43,  -10.4 ,\n",
       "           1.63,   13.66,   25.69,   37.72,   49.75,   61.78,   73.81,\n",
       "          85.84,   97.87,  109.9 ,  121.93,  133.96,  145.99,  158.02,\n",
       "         170.05,  182.08,  194.11,  206.14,  218.17,  230.2 ,  242.23,\n",
       "         254.26,  266.29,  278.32,  290.35,  302.38,  314.41,  326.44,\n",
       "         338.47,  350.5 ,  362.53,  374.56,  386.59,  398.62,  410.65,\n",
       "         422.68,  434.71,  446.74,  458.77,  470.8 ,  482.83,  494.86,\n",
       "         506.89,  518.92,  530.95,  542.98,  555.01,  567.04,  579.07,\n",
       "         591.1 ,  603.13,  615.16,  627.19,  639.22,  651.25,  663.28,\n",
       "         675.31,  687.34,  699.37,  711.4 ,  723.43,  735.46,  747.49,\n",
       "         759.52,  771.55,  783.58,  795.61,  807.64,  819.67,  831.7 ,\n",
       "         843.73,  855.76,  867.79,  879.82,  891.85,  903.88,  915.91,\n",
       "         927.94,  939.97,  952.  ]),\n",
       " <a list of 100 Patch objects>)"
      ]
     },
     "execution_count": 74,
     "metadata": {},
     "output_type": "execute_result"
    },
    {
     "data": {
      "image/png": "[encoded data removed]",
      "text/plain": [
       "<Figure size 432x288 with 1 Axes>"
      ]
     },
     "metadata": {
      "needs_background": "light"
     },
     "output_type": "display_data"
    }
   ],
   "source": [
    "BasePoint, PDO = 500,50\n",
    "testData['score'] = testData['pred'].apply(lambda x: Prob2Score(x, BasePoint, PDO))\n",
    "plt.hist(testData['score'],bins=100)"
   ]
  }
 ],
 "metadata": {
  "kernelspec": {
   "display_name": "Python 3",
   "language": "python",
   "name": "python3"
  },
  "language_info": {
   "codemirror_mode": {
    "name": "ipython",
    "version": 3
   },
   "file_extension": ".py",
   "mimetype": "text/x-python",
   "name": "python",
   "nbconvert_exporter": "python",
   "pygments_lexer": "ipython3",
   "version": "3.7.4"
  }
 },
 "nbformat": 4,
 "nbformat_minor": 2
}
